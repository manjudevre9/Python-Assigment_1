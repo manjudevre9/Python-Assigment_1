{
 "cells": [
  {
   "cell_type": "code",
   "execution_count": null,
   "id": "466d1a16-bc8d-436a-8961-9779309ae1c2",
   "metadata": {},
   "outputs": [],
   "source": [
    "Que.1.Create a Pandas series that contains the following data: 4,8,15,16,23,& 42.Then, print the series.\n",
    "Ans."
   ]
  },
  {
   "cell_type": "code",
   "execution_count": 1,
   "id": "0e2e776d-e516-4368-8d39-6e22fef344ae",
   "metadata": {},
   "outputs": [
    {
     "name": "stdout",
     "output_type": "stream",
     "text": [
      "0     4\n",
      "1     8\n",
      "2    15\n",
      "3    16\n",
      "4    23\n",
      "5    42\n",
      "dtype: int64\n"
     ]
    }
   ],
   "source": [
    "import pandas as pd\n",
    "\n",
    "series=pd.Series([4,8,15,16,23,42])\n",
    "print(series)"
   ]
  },
  {
   "cell_type": "code",
   "execution_count": null,
   "id": "2958cf7c-1314-40c9-aded-a780220493b7",
   "metadata": {},
   "outputs": [],
   "source": [
    "Que.2.Create a variable if list type containing 10 elements in it,& apply pandas.Series function on the variable\n",
    "      print it.\n",
    "Ans.    "
   ]
  },
  {
   "cell_type": "code",
   "execution_count": 2,
   "id": "14993455-d0c4-48d1-bf69-2bec13a4bc10",
   "metadata": {},
   "outputs": [
    {
     "name": "stdout",
     "output_type": "stream",
     "text": [
      "0     1\n",
      "1     2\n",
      "2     3\n",
      "3     4\n",
      "4     5\n",
      "5     6\n",
      "6     7\n",
      "7     8\n",
      "8     9\n",
      "9    10\n",
      "dtype: int64\n"
     ]
    }
   ],
   "source": [
    "import pandas as pd\n",
    "\n",
    "my_list=[1,2,3,4,5,6,7,8,9,10]\n",
    "\n",
    "series=pd.Series(my_list)\n",
    "print(series)"
   ]
  },
  {
   "cell_type": "code",
   "execution_count": null,
   "id": "5238c8c4-b65b-40fe-8456-3fed79f6e7fb",
   "metadata": {},
   "outputs": [],
   "source": [
    "Que.3.What is 'DataFrame'in pandas & how is it different from pandas.series.\n",
    "Ans.In pandas Dataframe is a two-dimentional dara structrue that can strore data with rows & columns,similar to \n",
    "    an Excel spreadsheet or a table in a relation database.\n",
    "    Key difference:\n",
    "        ` A Series has only one column,while a DataFrame has multiple columns.\n",
    "        ` A Series is one-dimentional,while a DataFrame is two-dimentional.\n",
    "        `A Series is similar to a list or a NumPy array, while a dataFrame is similar to a table or a sreadsheet"
   ]
  },
  {
   "cell_type": "code",
   "execution_count": null,
   "id": "475beef3-fffe-4112-9535-7804362a2b23",
   "metadata": {},
   "outputs": [],
   "source": [
    "Que.4.Create a pandas DataFrame.\n",
    "Ans."
   ]
  },
  {
   "cell_type": "code",
   "execution_count": 3,
   "id": "c9198798-e6c3-4098-bf00-f503f4e5ce81",
   "metadata": {},
   "outputs": [
    {
     "name": "stdout",
     "output_type": "stream",
     "text": [
      "     Name  Age  Gender\n",
      "0   Alice   25  Female\n",
      "1     Bob   30    Male\n",
      "2  Claire   27  Female\n"
     ]
    }
   ],
   "source": [
    "import pandas as pd\n",
    "\n",
    "data={'Name':['Alice','Bob','Claire'],'Age':[25,30,27],'Gender':['Female','Male','Female']}\n",
    "df=pd.DataFrame(data)\n",
    "print(df)"
   ]
  },
  {
   "cell_type": "code",
   "execution_count": null,
   "id": "c3180a45-f0d3-4015-9e48-28a2297ab073",
   "metadata": {},
   "outputs": [],
   "source": [
    "Que.5.What are some common functions you can use to manipulate data in a pandas dataframe?Can you give an\n",
    "      example of when you might use one of these functions?\n",
    "Ans.Filtering & Selection:\n",
    "    1.loc[]:select rows & columns by lable(s)\n",
    "    2.iloc[]:select rows & columns by integer position(s)\n",
    "    3.quert():filter rows based on a condition\n",
    "    4.filter():filter columns based on a condition\n",
    "    \n",
    "    Sorting & Indexing:\n",
    "    1.sort_values()\n",
    "    2.sort_index()\n",
    "    3.set_index()\n",
    "    4.reset_index()\n",
    "    \n",
    "    Grouping & Aggregating:\n",
    "    1.groupby()\n",
    "    2.pivot_table()\n",
    "    3.agg()\n",
    "    \n",
    "    Merging & Joining:\n",
    "    1.merge()\n",
    "    2.join()\n",
    "    3.concat()\n",
    "    \n",
    "    Data Cleaning & Transformation:\n",
    "    1.drop()\n",
    "    2.fillna()\n",
    "    3.replace()\n",
    "    4.astype()\n",
    "    5.apply()\n",
    "    \n",
    "    Data Analysis\n",
    "    1.describe()\n",
    "    2.corr()\n",
    "    3.cov()\n",
    "    4.value_counts()\n",
    "    \n",
    "    Data Transformation\n",
    "    1.melt()\n",
    "    2.pivot()\n",
    "    3.stack()\n",
    "    4.unstack()\n",
    "    "
   ]
  },
  {
   "cell_type": "code",
   "execution_count": 7,
   "id": "608fbe82-cb77-4caa-aebd-8f4de048e042",
   "metadata": {},
   "outputs": [
    {
     "name": "stdout",
     "output_type": "stream",
     "text": [
      "Region   East  North  South\n",
      "Product                    \n",
      "A        75.0  100.0   50.0\n",
      "B         NaN  200.0  150.0\n",
      "C         NaN  300.0    NaN\n"
     ]
    }
   ],
   "source": [
    "import pandas as pd\n",
    "\n",
    "df=pd.DataFrame({'Product':['A','B','A','C','B','A'],'Region':['North','North','South','North','South','East'],\n",
    "                'Sales':[100,200,50,300,150,75]})\n",
    "df_north=df[df['Region']=='North']\n",
    "\n",
    "df_north_sorted=df_north.sort_values(by='Sales',ascending=False)\n",
    "\n",
    "df_grouped=df_north_sorted.groupby('Product')['Sales'].sum().reset_index()\n",
    "df_pivoted=df.pivot(index='Product',columns='Region',values='Sales')\n",
    "print(df_pivoted)"
   ]
  },
  {
   "cell_type": "code",
   "execution_count": null,
   "id": "f3f6ecdf-21c9-45f9-8b92-7d82a6d6b3a6",
   "metadata": {},
   "outputs": [],
   "source": [
    "Que.6.Which of the following is mutable in nature Series, DataFrame,Panel?\n",
    "Ans.DataFrame:mutable\n",
    "    Series:mutable\n",
    "    Panel:not mutable"
   ]
  },
  {
   "cell_type": "code",
   "execution_count": null,
   "id": "f2395d54-6912-4dd3-a735-4b3df631d0ae",
   "metadata": {},
   "outputs": [],
   "source": [
    "Que.7.Create a dataframe using multiple series.Explain with an example.\n",
    "Ans."
   ]
  },
  {
   "cell_type": "code",
   "execution_count": null,
   "id": "1206d21a-5226-41e1-b5ea-083091577203",
   "metadata": {},
   "outputs": [],
   "source": [
    "import pandas as pd\n",
    "\n",
    "series1=pd.Series([1,2,3],name='A')\n",
    "series2=pd.Series([4,5,6],name='B')\n",
    "series3=pd.Series([7,8,9],name='C')"
   ]
  }
 ],
 "metadata": {
  "kernelspec": {
   "display_name": "Python 3 (ipykernel)",
   "language": "python",
   "name": "python3"
  },
  "language_info": {
   "codemirror_mode": {
    "name": "ipython",
    "version": 3
   },
   "file_extension": ".py",
   "mimetype": "text/x-python",
   "name": "python",
   "nbconvert_exporter": "python",
   "pygments_lexer": "ipython3",
   "version": "3.10.8"
  }
 },
 "nbformat": 4,
 "nbformat_minor": 5
}
