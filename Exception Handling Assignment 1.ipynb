{
 "cells": [
  {
   "cell_type": "code",
   "execution_count": null,
   "id": "d8e87620-7a10-4d55-959d-dfbec770a915",
   "metadata": {},
   "outputs": [],
   "source": [
    "# Que.1. Ans.\n",
    "Exception : An event,which occures during the execution of a program that disrupts the normal flow of the programs instructions.\n",
    "Diffrance between Exception & Syntax errors : Errors mostly happen at compile time like syntax error,however if can happen at runtime as well,Whereas\n",
    "an Exception occurs at runtime."
   ]
  },
  {
   "cell_type": "code",
   "execution_count": null,
   "id": "e7255b35-e5a5-46c2-a162-e49a80be6350",
   "metadata": {},
   "outputs": [],
   "source": [
    "# Que.2.Ans.\n",
    "If the exception is not handled by an except clause,the exception is reraised after the finally clause has been executed."
   ]
  },
  {
   "cell_type": "code",
   "execution_count": 3,
   "id": "4771b6c6-a44b-4e4d-9ed7-43b0fe577533",
   "metadata": {},
   "outputs": [
    {
     "name": "stdout",
     "output_type": "stream",
     "text": [
      "Error:  denominator cannot be 0.\n"
     ]
    }
   ],
   "source": [
    "try:\n",
    "    numerator=10\n",
    "    denominator=0\n",
    "    \n",
    "    result= numerator/  denominator\n",
    "    \n",
    "    print(result)\n",
    "except:\n",
    "        print(\"Error:  denominator cannot be 0.\")"
   ]
  },
  {
   "cell_type": "code",
   "execution_count": null,
   "id": "1b0f2ce0-cc51-44ec-b41c-bc1f8c85960c",
   "metadata": {},
   "outputs": [],
   "source": [
    "# Que.3.Ans.\n",
    "The try & except block in python is used to catch & handle exception."
   ]
  },
  {
   "cell_type": "code",
   "execution_count": 4,
   "id": "3ca70f57-1f52-46a6-b615-52133e03fa22",
   "metadata": {},
   "outputs": [
    {
     "name": "stdout",
     "output_type": "stream",
     "text": [
      "An exception occurred\n"
     ]
    }
   ],
   "source": [
    "try:\n",
    "    print(x)\n",
    "except:\n",
    "    print(\"An exception occurred\")\n",
    "    "
   ]
  },
  {
   "cell_type": "code",
   "execution_count": null,
   "id": "ba08bd6a-4aad-4964-b863-d151fef1db26",
   "metadata": {},
   "outputs": [],
   "source": [
    "# Que.4.Ans\n",
    "# A.try & else:"
   ]
  },
  {
   "cell_type": "code",
   "execution_count": 5,
   "id": "df51abe5-c2f0-4863-8b3d-439adf8730e7",
   "metadata": {},
   "outputs": [
    {
     "name": "stdin",
     "output_type": "stream",
     "text": [
      "Enter a number: 4\n"
     ]
    },
    {
     "name": "stdout",
     "output_type": "stream",
     "text": [
      "0.25\n"
     ]
    }
   ],
   "source": [
    "try:\n",
    "    n=int(input(\"Enter a number:\"))\n",
    "    assert n%2==0\n",
    "except:\n",
    "    print(\"Not an even number !\")\n",
    "else:\n",
    "    reciprocal=1/n\n",
    "    print(reciprocal)"
   ]
  },
  {
   "cell_type": "code",
   "execution_count": null,
   "id": "c1a4086c-f399-479f-a80d-9876a76fee9b",
   "metadata": {},
   "outputs": [],
   "source": [
    "# B. finally:"
   ]
  },
  {
   "cell_type": "code",
   "execution_count": 6,
   "id": "21592b96-d474-4c2c-a36d-c3a4642caae5",
   "metadata": {},
   "outputs": [
    {
     "name": "stdout",
     "output_type": "stream",
     "text": [
      "Enter:denominator cannot be 0.\n",
      "This is finally block.\n"
     ]
    }
   ],
   "source": [
    "try:\n",
    "    numerator=10\n",
    "    denominator=0\n",
    "    \n",
    "    result=numerator/ denominator\n",
    "    \n",
    "    print(result)\n",
    "except:\n",
    "    print(\"Enter:denominator cannot be 0.\")\n",
    "    \n",
    "finally:\n",
    "    print(\"This is finally block.\")\n",
    "      "
   ]
  },
  {
   "cell_type": "code",
   "execution_count": null,
   "id": "91e0842f-a1c9-405b-8de1-c55de60290ad",
   "metadata": {},
   "outputs": [],
   "source": [
    "# C.raise:"
   ]
  },
  {
   "cell_type": "code",
   "execution_count": 7,
   "id": "a9b5190c-4e03-4947-a808-a0e714dfe3e7",
   "metadata": {},
   "outputs": [
    {
     "name": "stdout",
     "output_type": "stream",
     "text": [
      "An exception\n"
     ]
    },
    {
     "ename": "NameError",
     "evalue": "Hi there",
     "output_type": "error",
     "traceback": [
      "\u001b[0;31m---------------------------------------------------------------------------\u001b[0m",
      "\u001b[0;31mNameError\u001b[0m                                 Traceback (most recent call last)",
      "Cell \u001b[0;32mIn[7], line 2\u001b[0m\n\u001b[1;32m      1\u001b[0m \u001b[38;5;28;01mtry\u001b[39;00m:\n\u001b[0;32m----> 2\u001b[0m     \u001b[38;5;28;01mraise\u001b[39;00m \u001b[38;5;167;01mNameError\u001b[39;00m(\u001b[38;5;124m\"\u001b[39m\u001b[38;5;124mHi there\u001b[39m\u001b[38;5;124m\"\u001b[39m)\n\u001b[1;32m      3\u001b[0m \u001b[38;5;28;01mexcept\u001b[39;00m \u001b[38;5;167;01mNameError\u001b[39;00m:\n\u001b[1;32m      4\u001b[0m     \u001b[38;5;28mprint\u001b[39m(\u001b[38;5;124m\"\u001b[39m\u001b[38;5;124mAn exception\u001b[39m\u001b[38;5;124m\"\u001b[39m)\n",
      "\u001b[0;31mNameError\u001b[0m: Hi there"
     ]
    }
   ],
   "source": [
    "try:\n",
    "    raise NameError(\"Hi there\")\n",
    "except NameError:\n",
    "    print(\"An exception\")\n",
    "    raise\n",
    "    "
   ]
  },
  {
   "cell_type": "code",
   "execution_count": null,
   "id": "487c70ac-de9e-4b49-a997-e0aea816c2e5",
   "metadata": {},
   "outputs": [],
   "source": [
    "# Que.5.Ans.\n",
    "Custom Exception: creating a new class that is derived from the built in Exception class.\n",
    "Custom exceptions will add information about prject_related problems.\n",
    "Python Custom exception ia a valuable tool for handling errors in a way that aligns with your applications specific requirements."
   ]
  },
  {
   "cell_type": "code",
   "execution_count": 14,
   "id": "9505fe4f-1cf5-49aa-8842-41739750723a",
   "metadata": {},
   "outputs": [
    {
     "name": "stdin",
     "output_type": "stream",
     "text": [
      "Enter a number between positive integer: 24\n"
     ]
    }
   ],
   "source": [
    "class NegativeError(Exception):\n",
    "    \n",
    "    def __init__(self,data):\n",
    "        self.data=data\n",
    "        \n",
    "try:\n",
    "    x=int(input(\"Enter a number between positive integer:\"))\n",
    "    if x<0:\n",
    "        raise\n",
    "    NegativeError(x)\n",
    "except NegativeError as e:\n",
    "    print(\"You provided{},Please provide positive integer values only \".format(e))"
   ]
  },
  {
   "cell_type": "code",
   "execution_count": null,
   "id": "0ebda7b1-853d-4ac8-abe4-050c37f6f68a",
   "metadata": {},
   "outputs": [],
   "source": [
    "# Que.6 Ans."
   ]
  },
  {
   "cell_type": "code",
   "execution_count": null,
   "id": "f4c2b61a-79db-455b-941b-aa55a45dffd7",
   "metadata": {},
   "outputs": [],
   "source": [
    "class InvalidAgeException(Exception):\n",
    "    \"Raised when the input value is less than 18\"\n",
    "    pass\n",
    "\n",
    "number=18\n",
    "\n",
    "try:\n",
    "    input_n=int(input(\"Enter a number:\"))\n",
    "    if input_n<number:\n",
    "         raise InvalidAgeException\n",
    "    else:\n",
    "        print(\"Eligible to Vote\")\n",
    "        \n",
    "except  InvalidAgeException:\n",
    "    print(\"Exception occurred:Invalid Age\")"
   ]
  },
  {
   "cell_type": "code",
   "execution_count": null,
   "id": "784a27ce-38d8-4da1-bc29-de65e6f559c0",
   "metadata": {},
   "outputs": [],
   "source": []
  },
  {
   "cell_type": "code",
   "execution_count": null,
   "id": "45335a5b-bbf7-4f3d-99e3-54916f6e4ee1",
   "metadata": {},
   "outputs": [],
   "source": []
  }
 ],
 "metadata": {
  "kernelspec": {
   "display_name": "Python 3 (ipykernel)",
   "language": "python",
   "name": "python3"
  },
  "language_info": {
   "codemirror_mode": {
    "name": "ipython",
    "version": 3
   },
   "file_extension": ".py",
   "mimetype": "text/x-python",
   "name": "python",
   "nbconvert_exporter": "python",
   "pygments_lexer": "ipython3",
   "version": "3.10.8"
  }
 },
 "nbformat": 4,
 "nbformat_minor": 5
}
