{
 "cells": [
  {
   "attachments": {},
   "cell_type": "markdown",
   "id": "897290c9-f54e-4623-8ddb-21dfe542bdba",
   "metadata": {},
   "source": [
    "## Que 1. Ans\n",
    "Web scraping :"
   ]
  },
  {
   "cell_type": "code",
   "execution_count": null,
   "id": "f79b00fc-20ed-47fc-a8b6-34cf4a97981c",
   "metadata": {},
   "outputs": [],
   "source": [
    "1. Web Scraping is a term used to describe the use of a program or algorithm to extract & process large \n",
    "   amounts of data from the web.\n",
    "2. Python web scraping can support data extraction,parsing & importation,& even visualization.\n",
    "3. There are a variety of uses you can gain from web scraping,including: Monitoring ecommerce prices.\n",
    "   Finding opportunities for investment.Analyzing social media web data."
   ]
  },
  {
   "attachments": {},
   "cell_type": "markdown",
   "id": "5dd26a69-cd91-4de9-a3d9-1c465e3786bf",
   "metadata": {},
   "source": [
    "## Que. 2. Ans.\n",
    "Different methods for Web Scraping"
   ]
  },
  {
   "cell_type": "code",
   "execution_count": null,
   "id": "7e646e0c-5407-401c-84cc-41f35ccfcfe6",
   "metadata": {},
   "outputs": [],
   "source": [
    "1. Requests\n",
    "2. BeautifulSoup\n",
    "3. Scrapy\n",
    "4. Selenium"
   ]
  },
  {
   "attachments": {},
   "cell_type": "markdown",
   "id": "4b9ce6be-fb8d-466c-83d2-d21dc4c7e4e7",
   "metadata": {},
   "source": [
    "## Que.3 Ans\n",
    "BeautifulSoup :"
   ]
  },
  {
   "cell_type": "code",
   "execution_count": null,
   "id": "e76d1c8d-83ed-49f3-bc87-9d79f5073013",
   "metadata": {},
   "outputs": [],
   "source": [
    "BeautifulSoup is a Python library that makes it easy to scrape information from web pages. BeautifulSoup \n",
    "provides simple methods for navigaing,searching,& modifying a parse tree in HTML,XML files.It transforms a \n",
    "complex HTML document into a tree of Python objects.It also automatically converts the documrnt to Unicode,\n",
    "so you don't have to think about encodings."
   ]
  },
  {
   "attachments": {},
   "cell_type": "markdown",
   "id": "c1c24bec-2334-48b9-9201-533a260482fb",
   "metadata": {},
   "source": [
    "## Que.4 Ans\n",
    "flask"
   ]
  },
  {
   "cell_type": "code",
   "execution_count": null,
   "id": "81685cf0-036c-48be-9772-96cc74b8cad9",
   "metadata": {},
   "outputs": [],
   "source": [
    "1. Flask is a lightweight framwork to build websites. We'll use this to parse our collected data & display \n",
    "   it as HTML in a new HTML file.\n",
    "2. Flask is a web framwork ,its a python module that lets you develop web application easily.    "
   ]
  }
 ],
 "metadata": {
  "kernelspec": {
   "display_name": "Python 3 (ipykernel)",
   "language": "python",
   "name": "python3"
  },
  "language_info": {
   "codemirror_mode": {
    "name": "ipython",
    "version": 3
   },
   "file_extension": ".py",
   "mimetype": "text/x-python",
   "name": "python",
   "nbconvert_exporter": "python",
   "pygments_lexer": "ipython3",
   "version": "3.10.8"
  }
 },
 "nbformat": 4,
 "nbformat_minor": 5
}
