{
 "cells": [
  {
   "cell_type": "code",
   "execution_count": null,
   "id": "1fe1d0cf-261a-4d15-ab74-e00c2cb826f8",
   "metadata": {},
   "outputs": [],
   "source": [
    "# Que. 1.Ans.\n",
    "A custom exception class,MyCustomError lnit is the method called when an instance is created & str is the magic \n",
    "method called when an instance is peinted.Therefore,when an exception is raised, they are usually called in close \n",
    "succession."
   ]
  },
  {
   "cell_type": "code",
   "execution_count": 1,
   "id": "801645fc-a4a7-4b46-8728-ae101af02663",
   "metadata": {},
   "outputs": [
    {
     "name": "stdout",
     "output_type": "stream",
     "text": [
      "Hierarchy for Built-in exceptions is:\n",
      " BaseException\n"
     ]
    },
    {
     "ename": "AttributeError",
     "evalue": "type object 'BaseException' has no attribute '__subclasess__'",
     "output_type": "error",
     "traceback": [
      "\u001b[0;31m---------------------------------------------------------------------------\u001b[0m",
      "\u001b[0;31mAttributeError\u001b[0m                            Traceback (most recent call last)",
      "Cell \u001b[0;32mIn[1], line 11\u001b[0m\n\u001b[1;32m      8\u001b[0m \u001b[38;5;28mprint\u001b[39m(\u001b[38;5;124m\"\u001b[39m\u001b[38;5;124mHierarchy for Built-in exceptions is:\u001b[39m\u001b[38;5;124m\"\u001b[39m)\n\u001b[1;32m     10\u001b[0m inspect\u001b[38;5;241m.\u001b[39mgetclasstree(inspect\u001b[38;5;241m.\u001b[39mgetmro(\u001b[38;5;167;01mBaseException\u001b[39;00m))\n\u001b[0;32m---> 11\u001b[0m \u001b[43mtreeClass\u001b[49m\u001b[43m(\u001b[49m\u001b[38;5;167;43;01mBaseException\u001b[39;49;00m\u001b[43m)\u001b[49m\n",
      "Cell \u001b[0;32mIn[1], line 6\u001b[0m, in \u001b[0;36mtreeClass\u001b[0;34m(cls, ind)\u001b[0m\n\u001b[1;32m      3\u001b[0m \u001b[38;5;28;01mdef\u001b[39;00m \u001b[38;5;21mtreeClass\u001b[39m(\u001b[38;5;28mcls\u001b[39m,ind\u001b[38;5;241m=\u001b[39m\u001b[38;5;241m0\u001b[39m):\n\u001b[1;32m      4\u001b[0m     \u001b[38;5;28mprint\u001b[39m(\u001b[38;5;124m'\u001b[39m\u001b[38;5;124m-\u001b[39m\u001b[38;5;124m'\u001b[39m \u001b[38;5;241m*\u001b[39m ind, \u001b[38;5;28mcls\u001b[39m\u001b[38;5;241m.\u001b[39m\u001b[38;5;18m__name__\u001b[39m)\n\u001b[0;32m----> 6\u001b[0m     \u001b[38;5;28;01mfor\u001b[39;00m i \u001b[38;5;129;01min\u001b[39;00m \u001b[38;5;28;43mcls\u001b[39;49m\u001b[38;5;241;43m.\u001b[39;49m\u001b[43m__subclasess__\u001b[49m():\n\u001b[1;32m      7\u001b[0m         treeClass(i,ind\u001b[38;5;241m*\u001b[39m\u001b[38;5;241m3\u001b[39m)\n",
      "\u001b[0;31mAttributeError\u001b[0m: type object 'BaseException' has no attribute '__subclasess__'"
     ]
    }
   ],
   "source": [
    "# Que.2.Ans.\n",
    "import inspect\n",
    "def treeClass(cls,ind=0):\n",
    "    print('-' * ind, cls.__name__)\n",
    "    \n",
    "    for i in cls.__subclasess__():\n",
    "        treeClass(i,ind*3)\n",
    "print(\"Hierarchy for Built-in exceptions is:\")\n",
    "\n",
    "inspect.getclasstree(inspect.getmro(BaseException))\n",
    "treeClass(BaseException)"
   ]
  },
  {
   "cell_type": "code",
   "execution_count": null,
   "id": "4d070a87-84e5-4d9c-99f3-9d6486f1157b",
   "metadata": {},
   "outputs": [],
   "source": [
    "# Que.3.Ans.\n",
    "The arithmetic error occurs when an error is encountered during numeric calculation in Python.\n",
    "This includes Zerodivision Error & Floating point error.\n",
    "ZerodivisionError : A ZerodivisionError occurs in Python when a number is attempted to be divided by zero.\n",
    "Floatingpointerror : It is used when you want a more precise division result,as it dose not round off the value \n",
    "to whole numbers."
   ]
  },
  {
   "cell_type": "code",
   "execution_count": null,
   "id": "8c88512e-2744-4746-a650-756057b97903",
   "metadata": {},
   "outputs": [],
   "source": [
    "try:\n",
    "    1/0\n",
    "    except ZerodivisionError as e:\n",
    "        print(e)\n",
    "    \n",
    "try:\n",
    "    5.3/0\n",
    "    except ZerodivisionError as e:\n",
    "        print(e)"
   ]
  },
  {
   "cell_type": "code",
   "execution_count": null,
   "id": "9ce23f33-6e6f-4502-9578-7694699184c3",
   "metadata": {},
   "outputs": [],
   "source": [
    "# Que.6. Ans.\n",
    "Python Exception Handling Best Practices : \n",
    "1. Use Exception for Exceptional class\n",
    "2. Dont Swallow the Exception\n",
    "3. Catch Specific Exception\n",
    "3. Always clean up Resources in a Finally Block\n",
    "4. Avoid Raising Generic Exception\n",
    "5. Raise Custom Exception\n",
    "6. Define Your Own Exception Hierarchy\n",
    "7. Document All Exception Thrown by a Function"
   ]
  },
  {
   "cell_type": "code",
   "execution_count": null,
   "id": "69c95bcf-3827-4690-9c9e-ca59256728ad",
   "metadata": {},
   "outputs": [],
   "source": [
    "# Que. 5. Ans\n",
    "ImportError : This error generally occurs when a class cannot be imported due to one of the following class is in \n",
    "              a circular dependency.\n",
    "ModuleNotFoundError : This error occurs when you're trying to access or use a module that cannot be found.    \n",
    "    "
   ]
  },
  {
   "cell_type": "code",
   "execution_count": null,
   "id": "79afaac0-c4a2-4969-9772-6cde6ba7069b",
   "metadata": {},
   "outputs": [],
   "source": [
    "# Que. 4 Ans.\n",
    "LookUpError class : LookUpError is the Base class for errors raised when somethings can't be found.\n",
    "The base class for the exception that are raised when a key or index used on a mapping or sequence is invalid:\n",
    "IndexError,KeyError.    "
   ]
  },
  {
   "cell_type": "code",
   "execution_count": null,
   "id": "79a957cf-a137-4577-9005-9998b4736651",
   "metadata": {},
   "outputs": [],
   "source": [
    "# IndexError :\n",
    "mylist=[1,2,3,4,5,6,7,8,9,10]\n",
    "print(\"The list is:\",mylist)\n",
    "\n",
    "index=10\n",
    "element=mylist[index]\n",
    "print(\"Element at index{}is{}\".format(index,element))"
   ]
  },
  {
   "cell_type": "code",
   "execution_count": null,
   "id": "0172de32-b9b9-403e-a665-99cbcd3a13b7",
   "metadata": {},
   "outputs": [],
   "source": [
    "# kKeyError : \n",
    "emp_dict={'Name';'Manju','ID':'2'}\n",
    "\n",
    "emp_id=emp"
   ]
  }
 ],
 "metadata": {
  "kernelspec": {
   "display_name": "Python 3 (ipykernel)",
   "language": "python",
   "name": "python3"
  },
  "language_info": {
   "codemirror_mode": {
    "name": "ipython",
    "version": 3
   },
   "file_extension": ".py",
   "mimetype": "text/x-python",
   "name": "python",
   "nbconvert_exporter": "python",
   "pygments_lexer": "ipython3",
   "version": "3.10.8"
  }
 },
 "nbformat": 4,
 "nbformat_minor": 5
}
