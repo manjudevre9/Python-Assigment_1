{
 "cells": [
  {
   "cell_type": "code",
   "execution_count": null,
   "id": "ea4eee01-43f1-41fb-b8ef-3cc95e4eaea3",
   "metadata": {},
   "outputs": [],
   "source": [
    "# Que.1 Ans\n",
    "Probability Dencity Function : A probability dencity function is a statistic tool used to determine the likelihood of the outcome of a discrete\n",
    "                               random variable."
   ]
  },
  {
   "cell_type": "code",
   "execution_count": null,
   "id": "665e40fa-a9fc-4a1a-ab29-ee7bea22ca63",
   "metadata": {},
   "outputs": [],
   "source": [
    "# Que.2 Ans\n",
    "Type of probability Distribution : 1.classical.\n",
    "                                   2.empirical.\n",
    "                                   3.subjective.\n",
    "                                   4.axiomatic."
   ]
  },
  {
   "cell_type": "code",
   "execution_count": null,
   "id": "340ce9a8-f53d-464c-a3a4-e86488f1608d",
   "metadata": {},
   "outputs": [],
   "source": [
    "# Que.3 Ans\n",
    "calculate probability in a normal distribution given mean and standard deviation in Python : \n",
    "we will use scipy.stats.norm.pdf(x,loc=None,scale=None)"
   ]
  },
  {
   "cell_type": "code",
   "execution_count": 2,
   "id": "92e05b63-cdea-4e65-bff7-9347019434cf",
   "metadata": {},
   "outputs": [
    {
     "name": "stdout",
     "output_type": "stream",
     "text": [
      "0.0804410163156249\n"
     ]
    }
   ],
   "source": [
    "# ex. \n",
    "from scipy.stats import norm\n",
    "import numpy as np\n",
    "\n",
    "data_start=-5\n",
    "data_end=5\n",
    "data_points=11\n",
    "data=np.linspace(data_start, data_end, data_points)\n",
    "\n",
    "mean=np.mean(data)\n",
    "std=np.std(data)\n",
    "\n",
    "probability_pdf=norm.pdf(3, loc=mean, scale=std)\n",
    "print(probability_pdf)"
   ]
  },
  {
   "cell_type": "code",
   "execution_count": null,
   "id": "57de2877-fc22-4556-851a-e54940dc8d21",
   "metadata": {},
   "outputs": [],
   "source": [
    "# Que.4 Ans\n",
    "Properties of Binomial Distribution : 1. There are two possible outcomes:true or false,success or failure,yes or no.\n",
    "                                      2. There is 'n' number of independant trials or a fixed number of n times repeated trials.\n",
    "                                      3. The probability of success or failure remains the same for each trial.\n",
    "        \n",
    "ex. 1.Tossing a coin 20 times to see how many tails occur.\n",
    "    2.Rolling a die to see if a 5 appears."
   ]
  },
  {
   "cell_type": "code",
   "execution_count": 3,
   "id": "26217a57-b3d2-42dd-b63a-06778312c60b",
   "metadata": {},
   "outputs": [
    {
     "name": "stdout",
     "output_type": "stream",
     "text": [
      "r\tp(r)\n",
      "0\t0.0040960000000000015\n",
      "1\t0.03686400000000002\n",
      "2\t0.1382400000000001\n",
      "3\t0.2764800000000001\n",
      "4\t0.3110400000000001\n",
      "5\t0.1866240000000001\n",
      "6\t0.04665599999999999\n",
      "mean=3.5999999999999996\n",
      "variance=1.44\n"
     ]
    }
   ],
   "source": [
    "# Binomial Distribution\n",
    "from scipy.stats import binom\n",
    "n=6\n",
    "p=0.6\n",
    "r_values=list(range(n+1))\n",
    "mean, var=binom.stats(n,p)\n",
    "dist=[binom.pmf(r, n, p)for r in r_values]\n",
    "print(\"r\\tp(r)\")\n",
    "for i in range(n+1):\n",
    "    print(str(r_values[i])+ '\\t' + str(dist[i]))\n",
    "print(\"mean=\"+str(mean))\n",
    "print(\"variance=\"+str(var))"
   ]
  },
  {
   "cell_type": "code",
   "execution_count": 4,
   "id": "3c50fe45-14f6-4ce7-8eda-be4ed1a0b943",
   "metadata": {},
   "outputs": [
    {
     "name": "stderr",
     "output_type": "stream",
     "text": [
      "/tmp/ipykernel_103/493507032.py:6: UserWarning: \n",
      "\n",
      "`distplot` is a deprecated function and will be removed in seaborn v0.14.0.\n",
      "\n",
      "Please adapt your code to use either `displot` (a figure-level function with\n",
      "similar flexibility) or `histplot` (an axes-level function for histograms).\n",
      "\n",
      "For a guide to updating your code to use the new functions, please see\n",
      "https://gist.github.com/mwaskom/de44147ed2974457ad6372750bbe5751\n",
      "\n",
      "  sns.distplot(random.binomial(n=10,p=0.4,size=1000),hist=True,kde=False)\n"
     ]
    },
    {
     "data": {
      "image/png": "[encoded data removed]",
      "text/plain": [
       "<Figure size 640x480 with 1 Axes>"
      ]
     },
     "metadata": {},
     "output_type": "display_data"
    }
   ],
   "source": [
    "# Que.5 Ans\n",
    "from numpy import random\n",
    "import matplotlib.pyplot as plt\n",
    "import seaborn as sns\n",
    "\n",
    "sns.distplot(random.binomial(n=10,p=0.4,size=1000),hist=True,kde=False)\n",
    "plt.show()"
   ]
  },
  {
   "cell_type": "code",
   "execution_count": null,
   "id": "cb44c8ac-4ca9-4bd6-a0d8-e83f63b13cf0",
   "metadata": {},
   "outputs": [],
   "source": [
    "# Que.6 Ans\n",
    "Python function to calculate the cumulative distribution function of a Poisson distribution : F(k, \\lambda)=\\sum^{k}_{i=0}\\frac{\\lambda^{i}e^{-\\lambda}}{i!}"
   ]
  },
  {
   "cell_type": "code",
   "execution_count": null,
   "id": "31b3a202-3913-4b83-8094-1bcd2fb778ca",
   "metadata": {},
   "outputs": [],
   "source": [
    "# Que.7 Ans\n",
    "Binomial Distribution different from Poisson distribution : Binomial Distribution is biparametric,i.e.it is featured by two parameters n & p whereas \n",
    "                                                           whereas Poisson distribution is uniparametric, i.e. characterised by a single parameter m. "
   ]
  },
  {
   "cell_type": "code",
   "execution_count": null,
   "id": "944cc9c2-4b9d-465a-a6ef-e100b424b054",
   "metadata": {},
   "outputs": [],
   "source": [
    "# Que.8 Ans\n",
    "\n"
   ]
  },
  {
   "cell_type": "code",
   "execution_count": null,
   "id": "5f840bed-f1e1-4588-bdee-8f2869804591",
   "metadata": {},
   "outputs": [],
   "source": [
    "# Que.9 Ans\n",
    "mean & variance are related by binomial distriution & poisson distribution : in binomial distibution Mean > Variance \n",
    "                                                                             in poisson distribution mean = variance."
   ]
  },
  {
   "cell_type": "code",
   "execution_count": null,
   "id": "65bc9db3-8683-4dcc-a369-b446933a3da3",
   "metadata": {},
   "outputs": [],
   "source": [
    "# Que.10 Ans\n",
    "In normal distribution with respect to mean position,where does the least frequent data appear : The mode."
   ]
  }
 ],
 "metadata": {
  "kernelspec": {
   "display_name": "Python 3 (ipykernel)",
   "language": "python",
   "name": "python3"
  },
  "language_info": {
   "codemirror_mode": {
    "name": "ipython",
    "version": 3
   },
   "file_extension": ".py",
   "mimetype": "text/x-python",
   "name": "python",
   "nbconvert_exporter": "python",
   "pygments_lexer": "ipython3",
   "version": "3.10.8"
  }
 },
 "nbformat": 4,
 "nbformat_minor": 5
}
