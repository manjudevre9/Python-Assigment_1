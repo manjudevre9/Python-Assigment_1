{
 "cells": [
  {
   "cell_type": "code",
   "execution_count": 1,
   "id": "8fd4bb0b-1a81-45cd-830b-3561b6116f46",
   "metadata": {},
   "outputs": [
    {
     "name": "stdout",
     "output_type": "stream",
     "text": [
      "[1, 3, 1, 2, 0, 0]\n"
     ]
    }
   ],
   "source": [
    "b=[0,1,0,3,1,2]\n",
    "print(list(a for a in b if a!=0)+list(a for a in b if a ==0))"
   ]
  },
  {
   "cell_type": "code",
   "execution_count": null,
   "id": "439c61dd-378e-4f3f-8eb9-807cfaa286c9",
   "metadata": {},
   "outputs": [],
   "source": []
  }
 ],
 "metadata": {
  "kernelspec": {
   "display_name": "Python 3 (ipykernel)",
   "language": "python",
   "name": "python3"
  },
  "language_info": {
   "codemirror_mode": {
    "name": "ipython",
    "version": 3
   },
   "file_extension": ".py",
   "mimetype": "text/x-python",
   "name": "python",
   "nbconvert_exporter": "python",
   "pygments_lexer": "ipython3",
   "version": "3.10.8"
  }
 },
 "nbformat": 4,
 "nbformat_minor": 5
}
