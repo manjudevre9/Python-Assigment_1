{
 "cells": [
  {
   "cell_type": "code",
   "execution_count": null,
   "id": "4b3661f4-0de7-4bca-aaaf-4f425523ec85",
   "metadata": {},
   "outputs": [],
   "source": [
    "# Que.1.Ans\n",
    "Multiprocessing : Multiprocessing is a package that supports spawning processes using an API similar to the threading module.\n",
    "                  Multiprocessing in Python is a built-in package that allows the system to run multiple processes simultaneously. "
   ]
  },
  {
   "cell_type": "code",
   "execution_count": null,
   "id": "2e1779a3-6e66-4cb7-bf74-47da12486be4",
   "metadata": {},
   "outputs": [],
   "source": [
    "# Que.2.Ans.\n",
    "Differences between Multiprocessing & Multithreading : \n",
    "    Multiprocessing executes many processes simultaneoisly,whereas multithreading executes many threads simultaneously.\n",
    "    Multithreading uses a common address space for all the threads,whereas multiprocessing creates a seprate address space for each process."
   ]
  },
  {
   "cell_type": "code",
   "execution_count": 1,
   "id": "68ac315f-e131-4b61-8bad-ad2691997a56",
   "metadata": {},
   "outputs": [
    {
     "name": "stdout",
     "output_type": "stream",
     "text": [
      "main line\n",
      "module name: __main__\n",
      "parent process: 7\n",
      "process id: 103\n",
      "function f\n",
      "module name: __main__\n",
      "parent process: 103\n",
      "process id: 1118\n",
      "hello bob\n"
     ]
    }
   ],
   "source": [
    "# Que.3.Ans.\n",
    "from multiprocessing import Process\n",
    "import os\n",
    "\n",
    "def info(title):\n",
    "    print(title)\n",
    "    print('module name:',__name__)\n",
    "    print('parent process:',os.getppid())\n",
    "    print('process id:',os.getpid())\n",
    "    \n",
    "def f(name):\n",
    "    info('function f')\n",
    "    print('hello',name)\n",
    "    \n",
    "if __name__=='__main__':\n",
    "    info('main line')\n",
    "    p=Process(target=f,args=('bob',))\n",
    "    p.start()\n",
    "    p.join()\n",
    "    "
   ]
  },
  {
   "cell_type": "code",
   "execution_count": null,
   "id": "28def515-9523-43ec-9c49-6e48575eb50a",
   "metadata": {},
   "outputs": [],
   "source": [
    "# Que.4.Ans.\n",
    "Multiprocessing pool : It can be used for parallel execution of a function across multiple input values.The Python Multiprocessing Pool\n",
    "                       class allows you to create & manage process pools in python."
   ]
  },
  {
   "cell_type": "code",
   "execution_count": 5,
   "id": "38656695-2d6d-4b3c-bfb7-af9dc2790227",
   "metadata": {},
   "outputs": [
    {
     "name": "stdout",
     "output_type": "stream",
     "text": [
      "<multiprocessing.pool.Pool state=RUN pool_size=60>\n"
     ]
    }
   ],
   "source": [
    "# Que.5.Ans.\n",
    "from multiprocessing.pool import Pool\n",
    "\n",
    "if __name__=='__main__':\n",
    "    with Pool(60)as pool:\n",
    "        print(pool)"
   ]
  },
  {
   "cell_type": "code",
   "execution_count": null,
   "id": "31b9f27a-baca-4b31-89d0-0013ab4596e8",
   "metadata": {},
   "outputs": [],
   "source": [
    "# Que.6.Ans.\n"
   ]
  }
 ],
 "metadata": {
  "kernelspec": {
   "display_name": "Python 3 (ipykernel)",
   "language": "python",
   "name": "python3"
  },
  "language_info": {
   "codemirror_mode": {
    "name": "ipython",
    "version": 3
   },
   "file_extension": ".py",
   "mimetype": "text/x-python",
   "name": "python",
   "nbconvert_exporter": "python",
   "pygments_lexer": "ipython3",
   "version": "3.10.8"
  }
 },
 "nbformat": 4,
 "nbformat_minor": 5
}
