{
 "cells": [
  {
   "cell_type": "code",
   "execution_count": null,
   "id": "d10c5ccb-324e-4328-9cb2-ab2868afc72a",
   "metadata": {},
   "outputs": [],
   "source": [
    "Que.1. Write a code to print data present in the second row of the dataframe,df."
   ]
  },
  {
   "cell_type": "code",
   "execution_count": 1,
   "id": "2db16f2f-4111-47fc-8d5e-86225adaadaf",
   "metadata": {},
   "outputs": [
    {
     "name": "stdout",
     "output_type": "stream",
     "text": [
      "       course_name  duration\n",
      "0      DataScience         2\n",
      "1  Machine Learing         3\n",
      "2         Big Data         6\n",
      "3    Data Engineer         4\n"
     ]
    }
   ],
   "source": [
    "import pandas as pd\n",
    "course_name=['DataScience','Machine Learing','Big Data','Data Engineer']\n",
    "duration=[2,3,6,4]\n",
    "df=pd.DataFrame(data={'course_name':course_name,'duration':duration})\n",
    "print(df)"
   ]
  },
  {
   "cell_type": "code",
   "execution_count": null,
   "id": "22e0718f-32d1-4f27-a190-27c975eaeb80",
   "metadata": {},
   "outputs": [],
   "source": [
    "Que.2.What is the difference between the function loc & iloc in pandas.dataframe.\n",
    "Ans.loc:1.Inclusive of the end index,meaning df.loc[start:end] includes both start & end rows.\n",
    "        2.Can access rows & columns using conditions,like df.loc[df['column']>value].\n",
    "    examlpe:df.loc[1,'column_name']or df.loc[1:3,'column_name'].\n",
    "    Key differences: \n",
    "        1.loc uses lables,while iloc uses integer positions.\n",
    "        2.loc is inclusive of the end index,while iloc is exclusive.\n",
    "        3.loc allows conditional access,while iloc does not."
   ]
  },
  {
   "cell_type": "code",
   "execution_count": null,
   "id": "0530c581-3f55-45e8-93f0-e9dbdad30cc1",
   "metadata": {},
   "outputs": [],
   "source": [
    "Que.3.Reindex the given dataframe using a variable,reindex=[3,0,1,2]& store it in the variable,new _df then find \n",
    "      the output for both new_df.loc[2]&new_df.iloc[2]."
   ]
  },
  {
   "cell_type": "code",
   "execution_count": 2,
   "id": "14f538cf-7006-4782-bf6c-9041a9e4e879",
   "metadata": {},
   "outputs": [
    {
     "name": "stdout",
     "output_type": "stream",
     "text": [
      "New DataFrame:\n",
      "   A  B\n",
      "3  4  8\n",
      "0  1  5\n",
      "1  2  6\n",
      "2  3  7\n",
      "\n",
      "new_df.loc[2]:\n",
      "A    3\n",
      "B    7\n",
      "Name: 2, dtype: int64\n",
      "\n",
      "new_df.loc[2]:\n",
      "A    2\n",
      "B    6\n",
      "Name: 1, dtype: int64\n"
     ]
    }
   ],
   "source": [
    "import pandas as pd\n",
    "\n",
    "data={'A':[1,2,3,4],'B':[5,6,7,8]}\n",
    "df=pd.DataFrame(data)\n",
    "\n",
    "reindex=[3,0,1,2]\n",
    "new_df=df.reindex(reindex)\n",
    "\n",
    "print('New DataFrame:')\n",
    "print(new_df)\n",
    "\n",
    "print(\"\\nnew_df.loc[2]:\")\n",
    "print(new_df.loc[2])\n",
    "\n",
    "print(\"\\nnew_df.loc[2]:\")\n",
    "print(new_df.iloc[2])"
   ]
  },
  {
   "cell_type": "code",
   "execution_count": null,
   "id": "77db280b-52e6-491f-a241-52d72c0ffb84",
   "metadata": {},
   "outputs": [],
   "source": [
    "Que.4. Write a code to find the following statistical measurement for the above dataframe df1:\n",
    "       1.Mean of each & every column present in the dataframe.\n",
    "       2.Standerd deviation of column,'column_2'. "
   ]
  },
  {
   "cell_type": "code",
   "execution_count": 3,
   "id": "f6fcec87-4366-4407-b307-dc124c5cc4cc",
   "metadata": {},
   "outputs": [
    {
     "name": "stdout",
     "output_type": "stream",
     "text": [
      "Mean of each column:\n",
      "column_1    2.5\n",
      "column_2    6.5\n",
      "dtype: float64\n",
      "\n",
      "Standard deviation of 'column_2': \n",
      "1.2909944487358056\n"
     ]
    }
   ],
   "source": [
    "import pandas as pd \n",
    "\n",
    "data={'column_1':[1,2,3,4],'column_2':[5,6,7,8]}\n",
    "df1=pd.DataFrame(data)\n",
    "\n",
    "print('Mean of each column:')\n",
    "print(df1.mean())\n",
    "\n",
    "print(\"\\nStandard deviation of 'column_2': \")\n",
    "print(df1['column_2'].std())"
   ]
  },
  {
   "cell_type": "code",
   "execution_count": null,
   "id": "e51c1529-c312-468e-9d41-a269be1d509a",
   "metadata": {},
   "outputs": [],
   "source": [
    "Que.5.Replace the data present in the second row of 'column_2' by a string variable then find the mean of column,\n",
    "      column_2."
   ]
  },
  {
   "cell_type": "code",
   "execution_count": 5,
   "id": "2f1029a0-1382-49fb-bfaf-99a22ee2c10e",
   "metadata": {},
   "outputs": [
    {
     "name": "stderr",
     "output_type": "stream",
     "text": [
      "<>:5: SyntaxWarning: 'str' object is not callable; perhaps you missed a comma?\n",
      "<>:5: SyntaxWarning: 'str' object is not callable; perhaps you missed a comma?\n",
      "/tmp/ipykernel_103/964774432.py:5: SyntaxWarning: 'str' object is not callable; perhaps you missed a comma?\n",
      "  string_var='string'('link unavaliable')[1,'column_2']=string_var\n",
      "/tmp/ipykernel_103/964774432.py:5: SyntaxWarning: 'str' object is not callable; perhaps you missed a comma?\n",
      "  string_var='string'('link unavaliable')[1,'column_2']=string_var\n",
      "/tmp/ipykernel_103/964774432.py:5: SyntaxWarning: 'str' object is not callable; perhaps you missed a comma?\n",
      "  string_var='string'('link unavaliable')[1,'column_2']=string_var\n"
     ]
    },
    {
     "ename": "NameError",
     "evalue": "name 'string_var' is not defined",
     "output_type": "error",
     "traceback": [
      "\u001b[0;31m---------------------------------------------------------------------------\u001b[0m",
      "\u001b[0;31mNameError\u001b[0m                                 Traceback (most recent call last)",
      "Cell \u001b[0;32mIn[5], line 5\u001b[0m\n\u001b[1;32m      2\u001b[0m data\u001b[38;5;241m=\u001b[39m{\u001b[38;5;124m'\u001b[39m\u001b[38;5;124mcolumn_1\u001b[39m\u001b[38;5;124m'\u001b[39m:[\u001b[38;5;241m1\u001b[39m,\u001b[38;5;241m2\u001b[39m,\u001b[38;5;241m3\u001b[39m,\u001b[38;5;241m4\u001b[39m],\u001b[38;5;124m'\u001b[39m\u001b[38;5;124mcolumn_2\u001b[39m\u001b[38;5;124m'\u001b[39m:[\u001b[38;5;241m5\u001b[39m,\u001b[38;5;241m6\u001b[39m,\u001b[38;5;241m7\u001b[39m,\u001b[38;5;241m8\u001b[39m]}\n\u001b[1;32m      3\u001b[0m df1\u001b[38;5;241m=\u001b[39mpd\u001b[38;5;241m.\u001b[39mDataFrame(data)\n\u001b[0;32m----> 5\u001b[0m string_var\u001b[38;5;241m=\u001b[39m\u001b[38;5;124m'\u001b[39m\u001b[38;5;124mstring\u001b[39m\u001b[38;5;124m'\u001b[39m(\u001b[38;5;124m'\u001b[39m\u001b[38;5;124mlink unavaliable\u001b[39m\u001b[38;5;124m'\u001b[39m)[\u001b[38;5;241m1\u001b[39m,\u001b[38;5;124m'\u001b[39m\u001b[38;5;124mcolumn_2\u001b[39m\u001b[38;5;124m'\u001b[39m]\u001b[38;5;241m=\u001b[39m\u001b[43mstring_var\u001b[49m\n\u001b[1;32m      7\u001b[0m \u001b[38;5;28mprint\u001b[39m(\u001b[38;5;124m\"\u001b[39m\u001b[38;5;124mMean of \u001b[39m\u001b[38;5;124m'\u001b[39m\u001b[38;5;124mcolumn_2\u001b[39m\u001b[38;5;124m'\u001b[39m\u001b[38;5;124m:\u001b[39m\u001b[38;5;124m\"\u001b[39m )\n\u001b[1;32m      8\u001b[0m \u001b[38;5;28mprint\u001b[39m(df1[\u001b[38;5;124m'\u001b[39m\u001b[38;5;124mcolumn_2\u001b[39m\u001b[38;5;124m'\u001b[39m]\u001b[38;5;241m.\u001b[39mmean())\n",
      "\u001b[0;31mNameError\u001b[0m: name 'string_var' is not defined"
     ]
    }
   ],
   "source": [
    "import pandas as pd\n",
    "data={'column_1':[1,2,3,4],'column_2':[5,6,7,8]}\n",
    "df1=pd.DataFrame(data)\n",
    "\n",
    "string_var='string'('link unavaliable')[1,'column_2']=string_var\n",
    "\n",
    "print(\"Mean of 'column_2':\" )\n",
    "print(df1['column_2'].mean())"
   ]
  },
  {
   "cell_type": "code",
   "execution_count": null,
   "id": "58bfa85d-6675-4589-92cd-f28eff8b09ef",
   "metadata": {},
   "outputs": [],
   "source": [
    "This is because the mean function expects numeric values,but 'column_2' now contains a string. "
   ]
  },
  {
   "cell_type": "code",
   "execution_count": null,
   "id": "b0184241-277e-4d0d-8a7b-d2f6dea576a5",
   "metadata": {},
   "outputs": [],
   "source": [
    "import pandas as pd\n",
    "import numpy as np\n",
    "\n",
    "data={'column_1':[1,2,3,4],'column_2':[5,6,7,8]}\n",
    "df1=pd.DataFrame(data)\n",
    "\n",
    "string_var='string'(\"link unavalible\")[1,'column_2']=string_var\n",
    "\n",
    "df1['column_2']=pd.to_numeric(df1['column_2'],errors='coerce')\n",
    "\n",
    "print(\"Mean of 'column_2':\" )\n",
    "print(df1['column_2'].mean())"
   ]
  },
  {
   "cell_type": "code",
   "execution_count": null,
   "id": "a3d18656-b44f-4f0a-a55d-3647b017e5e3",
   "metadata": {},
   "outputs": [],
   "source": [
    "Que.6.What do you understand about the windows function in pandas & list the type of windos function.\n",
    "Ans.In pandas,the window function allows you to perform calculations over a subset of rows,similar to the window\n",
    "    function in SQL\n",
    "There are several types of window functions in pandas:\n",
    "    1.Rolling\n",
    "    2.Expanding\n",
    "    3.Exponential Moving\n",
    "    4.Resampling\n",
    "Some common window functions include:\n",
    "    1.Aggregations:\n",
    "        -sum\n",
    "        -mean\n",
    "        -median\n",
    "        -min\n",
    "        -max\n",
    "        -std\n",
    "        -var\n",
    "    2.Transformations:\n",
    "        -shift\n",
    "        -diff\n",
    "    3.Custom functions:\n",
    "        -apply\n",
    "        \n",
    "These window functions can be used to perform various tasks,such as:\n",
    "    -Moving averages\n",
    "    -Cumulative sums\n",
    "     -Rolling regressions\n",
    "    -Time series analysis\n",
    "    -Data smoothing"
   ]
  },
  {
   "cell_type": "code",
   "execution_count": null,
   "id": "80157757-4917-41fc-8514-960b220c7bba",
   "metadata": {},
   "outputs": [],
   "source": [
    "Que.7.Write a code to only the current month & year at the time answering this quetion use pandas.datetime\n",
    "      funtion."
   ]
  },
  {
   "cell_type": "code",
   "execution_count": 6,
   "id": "0c88cbea-a35a-4dba-9a6c-4e47340e4665",
   "metadata": {},
   "outputs": [
    {
     "name": "stdout",
     "output_type": "stream",
     "text": [
      "Current Month:7\n",
      "Current Year:2024\n"
     ]
    }
   ],
   "source": [
    "import pandas as pd \n",
    "\n",
    "current_date=pd.Timestamp('today')\n",
    "current_month=current_date.month\n",
    "current_year=current_date.year\n",
    "\n",
    "print(f\"Current Month:{current_month}\")\n",
    "print(f\"Current Year:{current_year}\")"
   ]
  },
  {
   "cell_type": "code",
   "execution_count": null,
   "id": "1f74d0bb-affb-487a-8d36-d063e776a3df",
   "metadata": {},
   "outputs": [],
   "source": [
    "Que.8.Write a python program that takes in a two dates as input (in the format YYYY-MM-DD)days,hours & minutes\n",
    "      using pandas time delta.The program should prompt the user to enter the dates & display the result."
   ]
  },
  {
   "cell_type": "code",
   "execution_count": 7,
   "id": "9a9ece6e-06af-4f41-ae15-965a9a448d43",
   "metadata": {},
   "outputs": [
    {
     "name": "stdin",
     "output_type": "stream",
     "text": [
      "Enter the first date(YYYY-MM-DD): 2022-01-01\n",
      "Enter the second date(YYYY-MM-DD): 2022-01-15\n"
     ]
    },
    {
     "name": "stdout",
     "output_type": "stream",
     "text": [
      "The difference between2022-01-01 & 2022-01-15 is:\n",
      "14 days,0 hours,& 0 minutes\n"
     ]
    }
   ],
   "source": [
    "import pandas as pd\n",
    "date1=input('Enter the first date(YYYY-MM-DD):')\n",
    "date2=input('Enter the second date(YYYY-MM-DD):')\n",
    "\n",
    "ts1=pd.Timestamp(date1)\n",
    "ts2=pd.Timestamp(date2)\n",
    "\n",
    "delta=ts2-ts1\n",
    "\n",
    "days=delta.days\n",
    "hours=delta.seconds//3600\n",
    "minutes=(delta.seconds//60)%60\n",
    "\n",
    "print(f\"The difference between{date1} & {date2} is:\")\n",
    "print(f\"{days} days,{hours} hours,& {minutes} minutes\")"
   ]
  },
  {
   "cell_type": "code",
   "execution_count": null,
   "id": "2154edbe-a802-4470-be79-a191efe07835",
   "metadata": {},
   "outputs": [],
   "source": [
    "que.9.Write a python program reads a CSV file containing categorical data & converts a specified column to a \n",
    "      categorical data type.The program should prompt the user to enter the file path,column name,& category\n",
    "      order & then display the stored data."
   ]
  },
  {
   "cell_type": "code",
   "execution_count": null,
   "id": "b9132cde-2b28-494d-b1e3-2532d4721de5",
   "metadata": {},
   "outputs": [],
   "source": [
    "import pandas as pd\n",
    "file_path=input('Enter the CSVfile path:')\n",
    "\n",
    "df=pd.read_csv(file_path)\n",
    "column_name=input('Enter the column name to convert to categorical:')\n",
    "\n",
    "category_order=[x.strip() for x in category_order.split(\",\")]\n",
    "\n",
    "df[column_name]=pd.Categorical(df[column_name],categories=category_order,ordered=True)\n",
    "print(df)"
   ]
  },
  {
   "cell_type": "code",
   "execution_count": null,
   "id": "90cd886e-334a-443e-92fe-ec155dc3b3ca",
   "metadata": {},
   "outputs": [],
   "source": [
    "Que.10.Write a python program that reads a CSV file containing sclaes data for different products & visualizes \n",
    "       the data using a stacked bar chart to show the sales of each product category over time.the program \n",
    "       should prompt the user to enter the file path & display the chart."
   ]
  },
  {
   "cell_type": "code",
   "execution_count": null,
   "id": "ff3306e0-5656-4cf5-97a0-a02a0c446b76",
   "metadata": {},
   "outputs": [],
   "source": [
    "import pandas as pd\n",
    "import matplotlib.pyplot as plt\n",
    "\n",
    "file_path=input('Enter the CSV file path:')\n",
    "df=pd.read_csv(file_path)\n",
    "\n",
    "pivot_df=df.pivot_table(index='Date',columns='Product',values='Sales',aggfunc='sum')\n",
    "pivot_df.plot(kind='bar',stacked=True,figsize=(10,6))\n",
    "\n",
    "plt.title('Sales by Product Category over Time')\n",
    "plt.xlabel('Date')\n",
    "plt.ylabel()\n"
   ]
  }
 ],
 "metadata": {
  "kernelspec": {
   "display_name": "Python 3 (ipykernel)",
   "language": "python",
   "name": "python3"
  },
  "language_info": {
   "codemirror_mode": {
    "name": "ipython",
    "version": 3
   },
   "file_extension": ".py",
   "mimetype": "text/x-python",
   "name": "python",
   "nbconvert_exporter": "python",
   "pygments_lexer": "ipython3",
   "version": "3.10.8"
  }
 },
 "nbformat": 4,
 "nbformat_minor": 5
}
