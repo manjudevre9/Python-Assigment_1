{
 "cells": [
  {
   "cell_type": "code",
   "execution_count": null,
   "id": "a45f9805-5f3f-4c06-b6ad-7e5ef5d47ec6",
   "metadata": {},
   "outputs": [],
   "source": [
    "## Que 1. Ans."
   ]
  },
  {
   "cell_type": "code",
   "execution_count": 1,
   "id": "b6c2c685-e497-4050-acfe-e2e4e5fd89b5",
   "metadata": {},
   "outputs": [
    {
     "data": {
      "text/plain": [
       "str"
      ]
     },
     "execution_count": 1,
     "metadata": {},
     "output_type": "execute_result"
    }
   ],
   "source": [
    "s=\"Manjusha\"\n",
    "type(s)"
   ]
  },
  {
   "cell_type": "code",
   "execution_count": 2,
   "id": "6e3e7746-4f05-4686-b363-009019de87a4",
   "metadata": {},
   "outputs": [
    {
     "data": {
      "text/plain": [
       "list"
      ]
     },
     "execution_count": 2,
     "metadata": {},
     "output_type": "execute_result"
    }
   ],
   "source": [
    "l=[1,2,3,4,5]\n",
    "type(l)"
   ]
  },
  {
   "cell_type": "code",
   "execution_count": 3,
   "id": "460f9a1e-45d7-49b0-9c34-2c13c3caf23e",
   "metadata": {},
   "outputs": [
    {
     "data": {
      "text/plain": [
       "float"
      ]
     },
     "execution_count": 3,
     "metadata": {},
     "output_type": "execute_result"
    }
   ],
   "source": [
    "f=(23.45)\n",
    "type(f)"
   ]
  },
  {
   "cell_type": "code",
   "execution_count": 4,
   "id": "2d2def75-de18-4aec-b3c9-0563421751d7",
   "metadata": {},
   "outputs": [
    {
     "data": {
      "text/plain": [
       "tuple"
      ]
     },
     "execution_count": 4,
     "metadata": {},
     "output_type": "execute_result"
    }
   ],
   "source": [
    "t=(\"abc\",\"male\",34,True,56)\n",
    "type(t)"
   ]
  },
  {
   "cell_type": "code",
   "execution_count": null,
   "id": "f79569ec-870f-42b2-b57d-6843d3cc610a",
   "metadata": {},
   "outputs": [],
   "source": [
    "## Que 2. Ans."
   ]
  },
  {
   "cell_type": "code",
   "execution_count": 5,
   "id": "79ac45dc-472b-4a3b-98e1-2b2f273e0e18",
   "metadata": {},
   "outputs": [
    {
     "data": {
      "text/plain": [
       "str"
      ]
     },
     "execution_count": 5,
     "metadata": {},
     "output_type": "execute_result"
    }
   ],
   "source": [
    "var1=' '\n",
    "type(var1)"
   ]
  },
  {
   "cell_type": "code",
   "execution_count": 6,
   "id": "2a15805d-98a8-4db8-9315-9a720dee2486",
   "metadata": {},
   "outputs": [
    {
     "data": {
      "text/plain": [
       "str"
      ]
     },
     "execution_count": 6,
     "metadata": {},
     "output_type": "execute_result"
    }
   ],
   "source": [
    "var2='[DS,ML,Python]'\n",
    "type(var2)"
   ]
  },
  {
   "cell_type": "code",
   "execution_count": 7,
   "id": "ce782609-c2dd-450b-8ce1-bb21f59c99c4",
   "metadata": {},
   "outputs": [
    {
     "data": {
      "text/plain": [
       "list"
      ]
     },
     "execution_count": 7,
     "metadata": {},
     "output_type": "execute_result"
    }
   ],
   "source": [
    "var3=['DS','ML','Python']\n",
    "type(var3)"
   ]
  },
  {
   "cell_type": "code",
   "execution_count": 8,
   "id": "9b38a960-1d93-4da9-a14a-2fb3831a8c20",
   "metadata": {},
   "outputs": [
    {
     "data": {
      "text/plain": [
       "float"
      ]
     },
     "execution_count": 8,
     "metadata": {},
     "output_type": "execute_result"
    }
   ],
   "source": [
    "var4=1.\n",
    "type(var4)"
   ]
  },
  {
   "cell_type": "code",
   "execution_count": null,
   "id": "a9de48c7-e4bd-4771-ae8a-2b4f394bd458",
   "metadata": {},
   "outputs": [],
   "source": [
    "## que.3 Ans."
   ]
  },
  {
   "cell_type": "code",
   "execution_count": 14,
   "id": "917d5b2d-bb9d-47dd-ba27-cfc95357e246",
   "metadata": {},
   "outputs": [
    {
     "name": "stdout",
     "output_type": "stream",
     "text": [
      "4.0\n"
     ]
    }
   ],
   "source": [
    "x=12\n",
    "y=3\n",
    "print(x/y)"
   ]
  },
  {
   "cell_type": "code",
   "execution_count": 15,
   "id": "6ca2808b-6ae8-4722-b4af-16670c20f2b0",
   "metadata": {},
   "outputs": [
    {
     "name": "stdout",
     "output_type": "stream",
     "text": [
      "1\n"
     ]
    }
   ],
   "source": [
    "x=5\n",
    "y=2\n",
    "print(x%y)"
   ]
  },
  {
   "cell_type": "code",
   "execution_count": 16,
   "id": "545dcd34-724d-4d1f-b21a-7793d4f9c28f",
   "metadata": {},
   "outputs": [
    {
     "name": "stdout",
     "output_type": "stream",
     "text": [
      "7\n"
     ]
    }
   ],
   "source": [
    "x=15\n",
    "y=2\n",
    "print(x//y)"
   ]
  },
  {
   "cell_type": "code",
   "execution_count": 17,
   "id": "040de9dc-9636-4d6f-9908-94f6750f4d25",
   "metadata": {},
   "outputs": [
    {
     "name": "stdout",
     "output_type": "stream",
     "text": [
      "32\n"
     ]
    }
   ],
   "source": [
    "x=2\n",
    "y=5\n",
    "print(x**y)"
   ]
  },
  {
   "cell_type": "code",
   "execution_count": null,
   "id": "8d530848-c450-40df-855e-e38fb05b123f",
   "metadata": {},
   "outputs": [],
   "source": [
    "## Que.4 Ans."
   ]
  },
  {
   "cell_type": "code",
   "execution_count": 18,
   "id": "9b433b6f-5ec7-49c5-8224-be47182e7881",
   "metadata": {},
   "outputs": [
    {
     "name": "stdout",
     "output_type": "stream",
     "text": [
      "<class 'int'>\n",
      "<class 'bool'>\n",
      "<class 'float'>\n",
      "<class 'str'>\n",
      "<class 'int'>\n",
      "<class 'int'>\n",
      "<class 'str'>\n",
      "<class 'float'>\n",
      "<class 'bool'>\n",
      "<class 'str'>\n",
      "<class 'int'>\n"
     ]
    }
   ],
   "source": [
    "l=[23,True,67.89,\"Manjusha\",34,1,\"Jagadale\",89.7,False,\"PWskill\",10]\n",
    "for i in l:\n",
    "    print(type(i))"
   ]
  },
  {
   "cell_type": "code",
   "execution_count": null,
   "id": "9e6a5997-59ce-4ceb-8b49-b69842c6def5",
   "metadata": {},
   "outputs": [],
   "source": [
    "## Que.5. Ans."
   ]
  },
  {
   "cell_type": "code",
   "execution_count": 32,
   "id": "f0beb1a5-5fb1-4a2a-aa32-27ac81c48c77",
   "metadata": {},
   "outputs": [
    {
     "name": "stdin",
     "output_type": "stream",
     "text": [
      "Enter your number: 12\n"
     ]
    },
    {
     "name": "stdout",
     "output_type": "stream",
     "text": [
      "{} is divisible by 3\n"
     ]
    }
   ],
   "source": [
    "l=[1,2,3,4,5,6,7,8,9,10,11,12,13,14,15,16,17,18,19,20,21,22,23,24,25]\n",
    "l=int(input(\"Enter your number:\"))\n",
    "\n",
    "if(l%3==0):\n",
    "        print(\"{} is divisible by 3\")\n",
    "else:\n",
    "        print(\"{} is not divisible by 3\")"
   ]
  },
  {
   "cell_type": "code",
   "execution_count": null,
   "id": "fb0a17e7-066b-4760-a51f-42db54755a59",
   "metadata": {},
   "outputs": [],
   "source": [
    "## Que.6.Ans.\n",
    "## Mutable data type:The ability of objects to change their values.\n",
    "## immutable data type:When no change is possible over time."
   ]
  },
  {
   "cell_type": "code",
   "execution_count": 34,
   "id": "ea667583-ecca-43cc-8ef5-ea2c157d5b35",
   "metadata": {},
   "outputs": [],
   "source": [
    "l=[1,2,3,4,5,True,'Manjusha']\n",
    "l[3]=300"
   ]
  },
  {
   "cell_type": "code",
   "execution_count": 35,
   "id": "88a191b1-a13f-42f3-9875-52ea808238c5",
   "metadata": {},
   "outputs": [
    {
     "data": {
      "text/plain": [
       "[1, 2, 3, 300, 5, True, 'Manjusha']"
      ]
     },
     "execution_count": 35,
     "metadata": {},
     "output_type": "execute_result"
    }
   ],
   "source": [
    "l"
   ]
  },
  {
   "cell_type": "code",
   "execution_count": 36,
   "id": "669ca8b6-749d-449e-aed5-3b24b7fb61a5",
   "metadata": {},
   "outputs": [
    {
     "ename": "TypeError",
     "evalue": "'str' object does not support item assignment",
     "output_type": "error",
     "traceback": [
      "\u001b[0;31m---------------------------------------------------------------------------\u001b[0m",
      "\u001b[0;31mTypeError\u001b[0m                                 Traceback (most recent call last)",
      "Cell \u001b[0;32mIn[36], line 2\u001b[0m\n\u001b[1;32m      1\u001b[0m s\u001b[38;5;241m=\u001b[39m\u001b[38;5;124m\"\u001b[39m\u001b[38;5;124mManjusha\u001b[39m\u001b[38;5;124m\"\u001b[39m\n\u001b[0;32m----> 2\u001b[0m \u001b[43ms\u001b[49m\u001b[43m[\u001b[49m\u001b[38;5;241;43m3\u001b[39;49m\u001b[43m]\u001b[49m\u001b[38;5;241m=\u001b[39m\u001b[38;5;124m'\u001b[39m\u001b[38;5;124ms\u001b[39m\u001b[38;5;124m'\u001b[39m\n",
      "\u001b[0;31mTypeError\u001b[0m: 'str' object does not support item assignment"
     ]
    }
   ],
   "source": [
    "s=\"Manjusha\"\n",
    "s[3]='s'"
   ]
  },
  {
   "cell_type": "code",
   "execution_count": null,
   "id": "bbd78e64-e35e-463d-9245-90adb4973e49",
   "metadata": {},
   "outputs": [],
   "source": []
  }
 ],
 "metadata": {
  "kernelspec": {
   "display_name": "Python 3 (ipykernel)",
   "language": "python",
   "name": "python3"
  },
  "language_info": {
   "codemirror_mode": {
    "name": "ipython",
    "version": 3
   },
   "file_extension": ".py",
   "mimetype": "text/x-python",
   "name": "python",
   "nbconvert_exporter": "python",
   "pygments_lexer": "ipython3",
   "version": "3.10.8"
  }
 },
 "nbformat": 4,
 "nbformat_minor": 5
}
