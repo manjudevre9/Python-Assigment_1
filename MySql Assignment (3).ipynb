{
 "cells": [
  {
   "cell_type": "code",
   "execution_count": null,
   "id": "e8ae3a45-d594-4769-b849-d6ca888f2f39",
   "metadata": {},
   "outputs": [],
   "source": [
    "Que.1. What is DDL?Explain why CREATE,DROP,ALTER & TRUNCATE are used.\n",
    "Ans: DDL stands for Data Definition Language & refers to SQL commands used to create, modify,& delete database\n",
    "     structures such as tables,indexes,& views.\n",
    "CREATE:To create tables in the database.The table gets created as soon as the CREATE TABLE script is executed\n",
    "       & is ready to hold the data onwards.The user must have the CREATE TABLE system privilege to create the\n",
    "       table in its own schema.\n",
    "DROP:The drop() method removes the specified row or column.By specifying the column axis (axis='column'), the\n",
    "      drop() method removes the specified column.\n",
    "ALTER: The ALTER command is used to modify,drop or update column in the database.This can lso be used to add a \n",
    "       new column into the table using ADD clause.\n",
    "TRUNCATE: truncate() file method allows the user to resize the file to a given number of bytes when the file \n",
    "         is accessed through the append mode. "
   ]
  },
  {
   "cell_type": "code",
   "execution_count": null,
   "id": "f58ab971-7cae-4915-84dc-41ff8d707016",
   "metadata": {},
   "outputs": [],
   "source": [
    "Que.2. What is a database? \n",
    "Ans: Database-SQL database or relational database is a collection of highly structured tables,wherein\n",
    "     each row reflects a data entity,& every column defines a specific information field.\n",
    "     Differentiate between SQL & NoSQL database.\n",
    "Ans- SQL databases are relational, and NoSQL databases are non-relational. SQL databases use structured \n",
    "     query language (SQL) and have a predefined schema. NoSQL databases have dynamic schemas for unstructured\n",
    "     data. SQL databases are vertically scalable, while NoSQL databases are horizontally scalable"
   ]
  },
  {
   "cell_type": "code",
   "execution_count": null,
   "id": "ebabcad4-1697-466f-94cc-89bbd34267b1",
   "metadata": {},
   "outputs": [],
   "source": [
    "Que.3.What is DML?Explain INSERT, UPDATE,& DELETE.\n",
    "Ans: DML: Data Manipulation Language is a type of SQL command used to manipulate data in a database,this is a \n",
    "          computer programing language used for inserting,deleting,& updating data in s databse. \n",
    "INSERT:add new rows to an existing table of sql using the INSERT statment.\n",
    "UPDATE:UPDATE statement changes the data of one or more records in a table.\n",
    "DELETE:used to specify that when a row is deleted from the parent table, all rows in the child table that \n",
    "       reference the deleted row should be deleted."
   ]
  },
  {
   "cell_type": "code",
   "execution_count": null,
   "id": "309e2d4d-1e95-4818-8ce2-5f85f4e4b8e2",
   "metadata": {},
   "outputs": [],
   "source": [
    "Que.4.What is DQL? Explain SELECT.\n",
    "Ans. DQL: DQL statement are used for performing queries on the data with in schema.\n",
    "SELECT: A SELECT statment retrieves zero or more rows from one or more database tables or database views."
   ]
  },
  {
   "cell_type": "code",
   "execution_count": null,
   "id": "03d25f90-b422-4c1c-a08b-646dba06a8de",
   "metadata": {},
   "outputs": [],
   "source": [
    "Que.5.Explain Primary key & Foreign key?\n",
    "Ans.\n",
    "Primary key:The PRIMARY KEY constraint uniquely identifies each recird in a table.Primary keys must contain \n",
    "            UNIQUE values,& cannot contain NULL values.\n",
    "Foreign key:is a field in one table,that refers to the PRIMARY KEY in another table.    \n",
    "    "
   ]
  },
  {
   "cell_type": "code",
   "execution_count": null,
   "id": "48b86496-b284-4874-86ea-e9a06e43703a",
   "metadata": {},
   "outputs": [],
   "source": [
    "Que.6. Write a python code to connect MySql to python.Explain the cursor() & execute() method."
   ]
  },
  {
   "cell_type": "code",
   "execution_count": null,
   "id": "a75a3597-51c4-4d3d-b63a-dfd94a7816f5",
   "metadata": {},
   "outputs": [],
   "source": [
    "import mysql.connector\n",
    "\n",
    "myconn=mysql.connector.connect(host=\"localhost\",user=\"root\",passwd=\"google\",database=\"mydb\")\n",
    "\n",
    "print(myconn)\n",
    "\n",
    "cur=myconn.cursor()\n",
    "\n",
    "print(cur)"
   ]
  },
  {
   "cell_type": "code",
   "execution_count": null,
   "id": "b1c9ae32-0e38-48c3-a3a3-ca1ec1d535e6",
   "metadata": {},
   "outputs": [],
   "source": [
    "cursor():Cursor are created by the connection.\n",
    "execute():the fuction will parse & compile the target code into python bytecode."
   ]
  },
  {
   "cell_type": "code",
   "execution_count": null,
   "id": "76f26e63-c116-4174-be02-6e3827f8f590",
   "metadata": {},
   "outputs": [],
   "source": [
    "Que.7.Give the order of execution of sql clauses in an sql query.\n",
    "Ans.FROM,WHERE,GROUP BY,HAVING,S"
   ]
  }
 ],
 "metadata": {
  "kernelspec": {
   "display_name": "Python 3 (ipykernel)",
   "language": "python",
   "name": "python3"
  },
  "language_info": {
   "codemirror_mode": {
    "name": "ipython",
    "version": 3
   },
   "file_extension": ".py",
   "mimetype": "text/x-python",
   "name": "python",
   "nbconvert_exporter": "python",
   "pygments_lexer": "ipython3",
   "version": "3.10.8"
  }
 },
 "nbformat": 4,
 "nbformat_minor": 5
}
