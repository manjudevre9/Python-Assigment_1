{
 "cells": [
  {
   "cell_type": "code",
   "execution_count": null,
   "id": "6ef5b42c-d6d2-4006-bab0-6b0af2d123bc",
   "metadata": {},
   "outputs": [],
   "source": [
    "## Que.1 Ans."
   ]
  },
  {
   "cell_type": "code",
   "execution_count": 2,
   "id": "e152f5ac-fa78-4bfb-b34a-ed3969f1e5db",
   "metadata": {},
   "outputs": [
    {
     "name": "stdout",
     "output_type": "stream",
     "text": [
      "Original list of tupels:\n",
      "[('Sachin Tendulkar', 3457), ('Ricky Ponting', 27483), ('Jack Kallis', 25534), ('Virat Kohali', 24936)]\n",
      "\n",
      "Sorting the list of Tuples:\n",
      "[('Sachin Tendulkar', 3457), ('Virat Kohali', 24936), ('Jack Kallis', 25534), ('Ricky Ponting', 27483)]\n"
     ]
    }
   ],
   "source": [
    "players_score=[('Sachin Tendulkar',3457),('Ricky Ponting',27483),('Jack Kallis',25534),('Virat Kohali',24936)]\n",
    "print(\"Original list of tupels:\")\n",
    "print(players_score)\n",
    "players_score.sort(key=lambda x:x[1])\n",
    "print(\"\\nSorting the list of Tuples:\")\n",
    "print(players_score)"
   ]
  },
  {
   "cell_type": "code",
   "execution_count": null,
   "id": "5e298466-a6ba-4d4d-b995-175ef8ee4453",
   "metadata": {},
   "outputs": [],
   "source": [
    "## Que.2.Ans."
   ]
  },
  {
   "cell_type": "code",
   "execution_count": 3,
   "id": "9ea6de10-6f43-4146-9098-0b08f8a00a98",
   "metadata": {},
   "outputs": [
    {
     "name": "stdout",
     "output_type": "stream",
     "text": [
      "Origenal list of integers:\n",
      "[1, 2, 3, 4, 5, 6, 7, 8, 9, 10]\n",
      "\n",
      "Square every number of the said list:\n",
      "[1, 4, 9, 16, 25, 36, 49, 64, 81, 100]\n"
     ]
    }
   ],
   "source": [
    "nums=[1,2,3,4,5,6,7,8,9,10]\n",
    "print(\"Origenal list of integers:\")\n",
    "print(nums)\n",
    "print(\"\\nSquare every number of the said list:\")\n",
    "square_nums=list(map(lambda x:x**2, nums))\n",
    "print(square_nums)"
   ]
  },
  {
   "cell_type": "code",
   "execution_count": null,
   "id": "c10259e1-a932-4d8e-8091-432d6ab5716c",
   "metadata": {},
   "outputs": [],
   "source": [
    "## Que.3. Ans."
   ]
  },
  {
   "cell_type": "code",
   "execution_count": 4,
   "id": "2e8311bc-ff29-42ab-81ee-c8940733f01e",
   "metadata": {},
   "outputs": [
    {
     "name": "stdout",
     "output_type": "stream",
     "text": [
      "Origenal list of integers:\n",
      "[1, 2, 3, 4, 5, 6, 7, 8, 9, 10]\n",
      "\n",
      "list of strings:\n",
      "['1', '2', '3', '4', '5', '6', '7', '8', '9', '10']\n"
     ]
    }
   ],
   "source": [
    "num_list=[1,2,3,4,5,6,7,8,9,10]\n",
    "print(\"Origenal list of integers:\")\n",
    "print(num_list)\n",
    "result_list=list(map(str,num_list))\n",
    "print(\"\\nlist of strings:\")\n",
    "print(result_list)"
   ]
  },
  {
   "cell_type": "code",
   "execution_count": null,
   "id": "9db1c534-d6be-4a46-a4fd-01d7f52fd7c2",
   "metadata": {},
   "outputs": [],
   "source": [
    "## Que.4 Ans."
   ]
  },
  {
   "cell_type": "code",
   "execution_count": 15,
   "id": "9efd90da-432b-4bea-8722-c19cdb02cc48",
   "metadata": {},
   "outputs": [
    {
     "name": "stdout",
     "output_type": "stream",
     "text": [
      "The product of list elements is: 15511210043330985984000000\n"
     ]
    }
   ],
   "source": [
    "import functools\n",
    "import operator\n",
    "\n",
    "list=[1,2,3,4,5,6,7,8,9,10,11,12,13,14,15,16,17,18,19,20,21,22,23,24,25]\n",
    "print('The product of list elements is:',end=' ')\n",
    "print(functools.reduce(operator.mul,list))"
   ]
  },
  {
   "cell_type": "code",
   "execution_count": null,
   "id": "157a6fbe-b95b-4fd9-948a-1777d3d8357c",
   "metadata": {},
   "outputs": [],
   "source": [
    "## Que.5.Ans."
   ]
  },
  {
   "cell_type": "code",
   "execution_count": null,
   "id": "7b5f32f5-06a0-4532-b2e9-dc9000adbbb6",
   "metadata": {},
   "outputs": [],
   "source": [
    "my_list=[2,3,6,9,27,60,90,120,55,46]\n",
    "result=list(filter(lambda x:(x%2==0),my_list))\n",
    "print(result)"
   ]
  },
  {
   "cell_type": "code",
   "execution_count": null,
   "id": "bf66438c-6379-44af-a335-b9dbefa710be",
   "metadata": {},
   "outputs": [],
   "source": [
    "list_of_strings=['python','php','aba','radar','level']\n",
    "result=list(filter(lambda x:(x==\"\".join(reversed(x)))))"
   ]
  }
 ],
 "metadata": {
  "kernelspec": {
   "display_name": "Python 3 (ipykernel)",
   "language": "python",
   "name": "python3"
  },
  "language_info": {
   "codemirror_mode": {
    "name": "ipython",
    "version": 3
   },
   "file_extension": ".py",
   "mimetype": "text/x-python",
   "name": "python",
   "nbconvert_exporter": "python",
   "pygments_lexer": "ipython3",
   "version": "3.10.8"
  }
 },
 "nbformat": 4,
 "nbformat_minor": 5
}
