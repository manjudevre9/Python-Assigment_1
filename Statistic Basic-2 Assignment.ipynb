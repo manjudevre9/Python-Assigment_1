{
 "cells": [
  {
   "cell_type": "code",
   "execution_count": null,
   "id": "27ac361a-e214-483d-8dcc-17fe06262ee9",
   "metadata": {},
   "outputs": [],
   "source": [
    "## Que.1 Ans\n",
    "Three measures of central tendency : 1.mode.\n",
    "                                     2.median.\n",
    "                                     3.mean."
   ]
  },
  {
   "cell_type": "code",
   "execution_count": null,
   "id": "46e2a245-38bc-49b2-b729-31aa469d1d6e",
   "metadata": {},
   "outputs": [],
   "source": [
    "## Que.2 Ans\n",
    "Difference between mode,median & mean : Mean is the average value of the given observations.\n",
    "                                        Median is the middle value of the given observations.\n",
    "                                        Mode is the most repeated value in the given observations.\n",
    "Used as measure of cetntral tendancy : When you have a symmetrical distribution for continuous data,the mean,median &\n",
    "                                       mode are equal.In this case, analysis tend to use the mean because it includes\n",
    "                                       all of the data in the calculation.However,if you have a skewed distribution ,the \n",
    "                                       median is often the best measure of central tendancy."
   ]
  },
  {
   "cell_type": "code",
   "execution_count": null,
   "id": "adefc50f-91f2-40c9-b9e8-d2f74bad9df7",
   "metadata": {},
   "outputs": [],
   "source": [
    "\t\t\t\t\t\t\t\t   \n",
    "## Que.3 Ans\n",
    "Measure of three measure of central tendancy for the given height data :\n",
    "[178,177,176,177,178.2,178,175,179,180,175,178.9,176.2,177,172.5,178,176.5]\n",
    "mean: 177.018\n",
    "median:177\n",
    "mode:178"
   ]
  },
  {
   "cell_type": "code",
   "execution_count": null,
   "id": "44a7ec30-8578-4d14-aeb9-fc463bbe5e77",
   "metadata": {},
   "outputs": [],
   "source": [
    "## Que.4 Ans\n",
    "Standard deviation for the given data:\n",
    "[178,177,176,177,178.2,178,175,179,180,175,178.9,176.2,177,172.5,178,176.5]\n",
    "\n",
    "Standard deviation are = 1.0109\t\t\t\t\t\t\t\t\t   "
   ]
  },
  {
   "cell_type": "code",
   "execution_count": null,
   "id": "69a78b92-5b11-4269-a0b4-20878bcb951b",
   "metadata": {},
   "outputs": [],
   "source": [
    "## Que.5 Ans\n",
    "Standard deviation is the most commonly used measure of dispersion,it is a measure of spread of data about the mean.SD is the square root of sum\n",
    "of squared deviation from the mean divided by the number of observations.Measures of dispersion the spread of the data.They include the range\n",
    "interquartile range,standard deviation & variance.\n",
    "ex. Calculate the range,variance & standard deviation of the data.\n",
    "   -4,-2,0,-2,6,4,6,0,-6,4\n",
    "    \n",
    "sol:\n",
    "Range:\n",
    "    min value=-6\n",
    "    max value=6\n",
    "    range=max value-min value\n",
    "          =6-(-6)\n",
    "          =12\n",
    "                \n",
    "variance: 17.82\n",
    "standard deviation:4.22"
   ]
  },
  {
   "cell_type": "code",
   "execution_count": null,
   "id": "f05f18e2-efe9-4b61-9e93-9997b4e5481a",
   "metadata": {},
   "outputs": [],
   "source": [
    "## Que.6. Ans\n",
    "venn dig.: A venn dig is an illustration that uses circles to show the relationship among things or finite groups of things."
   ]
  },
  {
   "cell_type": "code",
   "execution_count": null,
   "id": "b1babea4-af4e-49de-8b1d-edbd9977a71c",
   "metadata": {},
   "outputs": [],
   "source": [
    "## Que.7 Ans\n",
    "A={2,3,4,5,6,7} & B={0,2,6,8,10}\n",
    "1. A intersection B\n",
    "common elements are {2,6}\n",
    "therefore, A intersection B={2,6}\n",
    "\n",
    "2. A union B\n",
    "{0,2,3,4,5,6,7,8,10}"
   ]
  },
  {
   "cell_type": "code",
   "execution_count": null,
   "id": "96dbe616-cff2-48f6-9cc1-dd908be1adae",
   "metadata": {},
   "outputs": [],
   "source": [
    "## Que.8 Ans\n",
    "skewness in data : Skewness is a mesurement of the distortion of symmetrical distribution or asymmetry in a data set.Skewness is demonstrated\n",
    "                   on a bell curve when data points are not distributed symmetrically to the left & right sides of the median on a bell curve."
   ]
  },
  {
   "cell_type": "code",
   "execution_count": null,
   "id": "ddeddd9e-0d8d-450a-a782-41399bfaaf9a",
   "metadata": {},
   "outputs": [],
   "source": [
    "## Que.9 Ans\n",
    "If the distribution  of data is skewed to the right, the mode is often less than the median,which is less than the mean.Skewness & symmetry \n",
    "become important when we discuss probability distribution in later chapters."
   ]
  },
  {
   "cell_type": "code",
   "execution_count": null,
   "id": "f16ad144-38e3-4b48-83e4-7fba8d53c193",
   "metadata": {},
   "outputs": [],
   "source": [
    "## Que.10 Ans\n",
    "Differance between  covariance & correlation :\n",
    "    Both covariance & correlation measure the relationship & the dependency between two variables.Covariance indicates the direction of the linear \n",
    "    relationship between variables while correlation measures both the linear relationship between two veriables.Covariance is an indicator of the \n",
    "    extent to which 2 random variables are dependent on each other.A higher number denotes higher dependency.Correlation is a statistical measure \n",
    "    that indicates how strongly two variables are related."
   ]
  },
  {
   "cell_type": "code",
   "execution_count": null,
   "id": "dbe7eaed-56d3-46fc-bf31-e7690eff2177",
   "metadata": {},
   "outputs": [],
   "source": [
    "## Que.11 Ans\n",
    "formula of sample mean: (sun of terms)/(number of terms)\n",
    "                        \n",
    "ex. (60,57,109,50)\n",
    "    =60+57+109+50/4\n",
    "    =276/4\n",
    "    =69\n",
    "    "
   ]
  },
  {
   "cell_type": "code",
   "execution_count": null,
   "id": "b3183e88-9cbd-4f9a-ae1f-94d9cbb2ce1a",
   "metadata": {},
   "outputs": [],
   "source": [
    "## Que.12 Ans\n",
    "Any normal distribution  has a graph that is perfectly symmetric about a vertical the throuh its peak. Therefore,all measures of central tendancy\n",
    "(most commonly, the mean,median,& mode).For normally distribution data,all three measures of central tendancy will give you the same answer so they \n",
    "can all be used."
   ]
  },
  {
   "cell_type": "code",
   "execution_count": null,
   "id": "84b04467-ffd2-4871-b6b9-bb5ee041bf16",
   "metadata": {},
   "outputs": [],
   "source": [
    "## Que.13 Ans\n",
    "Measures of central tendency are mean,median & mode.Outliers affect the mean value of the data but have little effect on the median or mode of a \n",
    "given set of data.Outliers measures of cental tendency & dispersion can give misleading impressions of a data set if the set contains one or more \n",
    "outliers.An outliers is a value that is much greater than or"
   ]
  }
 ],
 "metadata": {
  "kernelspec": {
   "display_name": "Python 3 (ipykernel)",
   "language": "python",
   "name": "python3"
  },
  "language_info": {
   "codemirror_mode": {
    "name": "ipython",
    "version": 3
   },
   "file_extension": ".py",
   "mimetype": "text/x-python",
   "name": "python",
   "nbconvert_exporter": "python",
   "pygments_lexer": "ipython3",
   "version": "3.10.8"
  }
 },
 "nbformat": 4,
 "nbformat_minor": 5
}
