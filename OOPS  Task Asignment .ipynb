{
 "cells": [
  {
   "cell_type": "code",
   "execution_count": null,
   "id": "1ca2919e-87eb-4419-81e0-73bdede57a97",
   "metadata": {},
   "outputs": [],
   "source": [
    "## Que.1 Ans."
   ]
  },
  {
   "cell_type": "code",
   "execution_count": 1,
   "id": "59a492b8-defb-4145-824e-c4f3f704a363",
   "metadata": {},
   "outputs": [],
   "source": [
    "class Vehicle:\n",
    "    \n",
    "    wheels=4\n",
    "    \n",
    "    def __init__(self,name_of_Vehicle,max_speed,average_of_Vehicle):\n",
    "        self.name_of_Vehicle=name_of_Vehicle\n",
    "        self.max_speed=max_speed\n",
    "        self.averag_of_Vehicle=average_of_Vehicle"
   ]
  },
  {
   "cell_type": "code",
   "execution_count": 2,
   "id": "a6015c42-934f-4e0f-b8f6-1c3d43421d5b",
   "metadata": {},
   "outputs": [],
   "source": [
    "V=Vehicle(\"Honda\",200,18)"
   ]
  },
  {
   "cell_type": "code",
   "execution_count": 3,
   "id": "3b5f85e6-c0d8-4b6f-ae84-03a7eac35aa3",
   "metadata": {},
   "outputs": [
    {
     "name": "stdout",
     "output_type": "stream",
     "text": [
      "Honda\n",
      "200\n",
      "18\n"
     ]
    }
   ],
   "source": [
    "print(V.name_of_Vehicle)\n",
    "print(V.max_speed)\n",
    "print(V.averag_of_Vehicle)"
   ]
  },
  {
   "cell_type": "code",
   "execution_count": null,
   "id": "21e72476-af61-499b-bd69-f44e08a21d0f",
   "metadata": {},
   "outputs": [],
   "source": [
    "## Que.2 Ans\n",
    "If a child class inherits from more than one class.This childe class is derived from multiple classes,we call\n",
    "it multiple inheritance in Python."
   ]
  },
  {
   "cell_type": "code",
   "execution_count": 9,
   "id": "b9d4008c-ed1a-4e1b-9715-9ee0e8a63fd2",
   "metadata": {},
   "outputs": [
    {
     "name": "stdout",
     "output_type": "stream",
     "text": [
      "In Class4\n",
      "In Class2\n",
      "In Class3\n",
      "In Class1\n"
     ]
    }
   ],
   "source": [
    "class Class1:\n",
    "    def m(self):\n",
    "        print(\"In Class1\")\n",
    "        \n",
    "class Class2(Class1):\n",
    "    def m(self):\n",
    "        print(\"In Class2\")\n",
    "\n",
    "class Class3(Class1):\n",
    "    def m(self):\n",
    "        print(\"In Class3\")\n",
    "        \n",
    "class Class4(Class2,Class3):\n",
    "    def m(self):\n",
    "        print(\"In Class4\")\n",
    "        \n",
    "obj=Class4()\n",
    "obj.m()\n",
    "\n",
    "Class2.m(obj)\n",
    "Class3.m(obj)\n",
    "Class1.m(obj)"
   ]
  },
  {
   "cell_type": "code",
   "execution_count": null,
   "id": "17c0fb59-025d-4446-9378-c7947e3670a3",
   "metadata": {},
   "outputs": [],
   "source": [
    "## Que 3.Ans\n",
    "Getter: A method that allows you to access an attribute in a given class.\n",
    "Setter:A method that allows you to set or mutate the value of an attribute in a class."
   ]
  },
  {
   "cell_type": "code",
   "execution_count": 12,
   "id": "c17dd5de-b15d-42fe-8edb-4d52c3d955b6",
   "metadata": {},
   "outputs": [
    {
     "name": "stdout",
     "output_type": "stream",
     "text": [
      "22\n",
      "22\n"
     ]
    }
   ],
   "source": [
    "class Kumar:\n",
    "    def __init__(self,age=0):\n",
    "          self._age=age\n",
    "        \n",
    "    def get_age(self):\n",
    "        return self._age\n",
    "    \n",
    "    def set_age(self,x):\n",
    "        self._age=x\n",
    "\n",
    "Raj=Kumar()\n",
    "\n",
    "Raj.set_age(22)\n",
    "print(Raj.get_age())\n",
    "print(Raj._age)"
   ]
  },
  {
   "cell_type": "code",
   "execution_count": null,
   "id": "6424702a-ef07-491a-8835-08c932082af8",
   "metadata": {},
   "outputs": [],
   "source": [
    "## Que.4.Ans\n",
    "Method Overriding:Where the subclass or child class can provide the program with specific characteristics or a \n",
    "specific implementation process of data provided that are already defined in the parent class or superclass."
   ]
  },
  {
   "cell_type": "code",
   "execution_count": 13,
   "id": "22baf989-b980-42e6-8798-71bba52d7c46",
   "metadata": {},
   "outputs": [
    {
     "name": "stdout",
     "output_type": "stream",
     "text": [
      "Inside Parent\n",
      "Inside Child\n"
     ]
    }
   ],
   "source": [
    "class Parent():\n",
    "    def __init__(self):\n",
    "        self.value=(\"Inside Parent\")\n",
    "    \n",
    "    def show(self):\n",
    "        print(self.value)\n",
    "        \n",
    "class Child(Parent):\n",
    "    def __init__(self):\n",
    "        self.value=(\"Inside Child\")\n",
    "        \n",
    "    def show(self):\n",
    "        print(self.value)\n",
    "        \n",
    "obj1=Parent()\n",
    "obj2=Child()\n",
    "\n",
    "obj1.show()\n",
    "obj2.show()\n",
    "        "
   ]
  }
 ],
 "metadata": {
  "kernelspec": {
   "display_name": "Python 3 (ipykernel)",
   "language": "python",
   "name": "python3"
  },
  "language_info": {
   "codemirror_mode": {
    "name": "ipython",
    "version": 3
   },
   "file_extension": ".py",
   "mimetype": "text/x-python",
   "name": "python",
   "nbconvert_exporter": "python",
   "pygments_lexer": "ipython3",
   "version": "3.10.8"
  }
 },
 "nbformat": 4,
 "nbformat_minor": 5
}
