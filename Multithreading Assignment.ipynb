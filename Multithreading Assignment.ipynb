{
 "cells": [
  {
   "cell_type": "code",
   "execution_count": null,
   "id": "d518eb5e-1e08-4c9b-8f68-e63da48cb532",
   "metadata": {},
   "outputs": [],
   "source": [
    "# Que. 1.Ans.\n",
    "Multithreading : Multithreading refers to concurrently executing multiple threads by rapidly switching the control of the \n",
    "                 CPU between threads.It is enables efficient utilization of the resources as the threads share the data space & memory.\n",
    "\n",
    "Threading module : The threading module is high levle implementation of multithreding used to deploy an application in Python.     \n",
    "                   To use multithreading we need to import the threading module in Pyton program .A start() method is used to initiate the \n",
    "                   activity of a thread."
   ]
  },
  {
   "cell_type": "code",
   "execution_count": null,
   "id": "574eae10-3291-44ca-a20e-ce7d8702b74c",
   "metadata": {},
   "outputs": [],
   "source": [
    "# Que. 2. Ans.\n",
    "Threading module : Python threading allows you to have different parts of your program run concurrently & can simplify your design.\n",
    "\n",
    "Use of following function : \n",
    "1. threading.activeCount() : Returns the number of thread objects that are active.\n",
    "2. thrading.currentThread() : Returns the number of thread objects in the callers thread control.\n",
    "3. threading.enumerate() : Returns a list of all threads objects that are currently active."
   ]
  },
  {
   "cell_type": "code",
   "execution_count": null,
   "id": "baa861dd-17f0-4df4-a36e-4ed85b305ea0",
   "metadata": {},
   "outputs": [],
   "source": [
    "# Que.3.Ans.\n",
    "Explain the following function : \n",
    "1. run() : The  run() method is the entry point for a thread.\n",
    "2 start() : The start() method starts a thread by calling the run method.\n",
    "3. join() : The join() waits for threads to terminate.\n",
    "4. isAlive() : The isAlive() method checks whether a thread is still executing."
   ]
  },
  {
   "cell_type": "code",
   "execution_count": null,
   "id": "f01485ed-08da-44df-b286-6d5c4b94723a",
   "metadata": {},
   "outputs": [],
   "source": [
    "# 4. Ans. \n",
    "import threading\n",
    "\n",
    "def print_cube(num):\n",
    "    print(\"Cube: {}\".format(num * num * num))\n",
    "    \n",
    "def print_square(num):\n",
    "    print(\"Square: {}\".format(num * num))\n",
    "if __name__==\"__main__\":\n",
    "    t1=threading.Thread(target=print_cube. args=(10,))\n",
    "    t2=threading.Thread(target=print_square. args=(10,))\n",
    "    \n",
    "    t1.start()\n",
    "    t2.start()\n",
    "    \n",
    "    t1.join()\n",
    "    t2.join()\n",
    "    print(\"Done!\")"
   ]
  },
  {
   "cell_type": "code",
   "execution_count": null,
   "id": "ec14d8fa-843b-48b9-baf8-973f3ca490c1",
   "metadata": {},
   "outputs": [],
   "source": [
    "# Que.5. Ans\n",
    "Advantages of Multithreading :\n",
    "1. The overall troughput of the server is much greater.\n",
    "2. Minimized system resource usage.\n",
    "3. It also allows the concurrent appearance of multiple tasks & reduces that response time.This improves the performs.\n",
    "\n",
    "Disadvantages of Multithreading : \n",
    "1. Difficulty of debugging \n",
    "2  Difficulty of testing\n",
    "3. Difficulty of writing code\n",
    "4. Difficulty of porting existing code."
   ]
  },
  {
   "cell_type": "code",
   "execution_count": null,
   "id": "a6152223-adba-4deb-ace0-3077850a3fcc",
   "metadata": {},
   "outputs": [],
   "source": [
    "# Que.6. Ans\n",
    "Deadlock : A deadlock is concurrency failure mode where a thread or threads wait for a condition that never occur.\n",
    "\n",
    "RACE Condition: A race condition is a failure case where the behavior of the program is dependent upon the order of execution by two or more threads. \n",
    "                This means that the behavior of the program will not be predictable,possibly changing each time its is run. \n"
   ]
  },
  {
   "cell_type": "code",
   "execution_count": null,
   "id": "adc72763-d305-45cc-9f30-060edcc20451",
   "metadata": {},
   "outputs": [],
   "source": []
  }
 ],
 "metadata": {
  "kernelspec": {
   "display_name": "Python 3 (ipykernel)",
   "language": "python",
   "name": "python3"
  },
  "language_info": {
   "codemirror_mode": {
    "name": "ipython",
    "version": 3
   },
   "file_extension": ".py",
   "mimetype": "text/x-python",
   "name": "python",
   "nbconvert_exporter": "python",
   "pygments_lexer": "ipython3",
   "version": "3.10.8"
  }
 },
 "nbformat": 4,
 "nbformat_minor": 5
}
