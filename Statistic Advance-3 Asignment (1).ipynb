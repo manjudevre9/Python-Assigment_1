{
 "cells": [
  {
   "cell_type": "code",
   "execution_count": null,
   "id": "4b68cd55-84cd-4d54-b21d-c308e5a2d2d8",
   "metadata": {},
   "outputs": [],
   "source": [
    "# Que.1 Ans\n",
    "Estimation Statistic : Estimation is the process by which the numerical value of unknown population values are inferred from incomplete data,such as\n",
    "                       a sample.\n",
    "\n",
    "Point estimate & Interval estimate : A point estimate is a single value estimate of a parameter.For instance, a sample mean is a point estimate of\n",
    "                                     a population mean. An interval estimate gives you a rangebof values where the parameter is expected to lie."
   ]
  },
  {
   "cell_type": "code",
   "execution_count": null,
   "id": "8a1eb8a7-8e40-46dc-a9b4-854bf45754c5",
   "metadata": {},
   "outputs": [],
   "source": [
    "# Que.2 Ans\n",
    "Function for population standard deviation in Python : pstdev() "
   ]
  },
  {
   "cell_type": "code",
   "execution_count": null,
   "id": "22ff0853-d480-4101-90ec-a4e73130acf0",
   "metadata": {},
   "outputs": [],
   "source": [
    "# Que.3 Ans\n",
    "Hypothesis Testing : To determine whether a discovery or relationship is statistically significant,hypothesis tesing uses a z-test.\n",
    "Used : Hypothesis testing is used to assess the plausibility of a hypothesis by using sample data.\n",
    "Importance : The hypothesis testing is to test wheter the null hypothesis can be rejected or approved."
   ]
  },
  {
   "cell_type": "code",
   "execution_count": null,
   "id": "ec3057f2-92b5-4ea2-92b7-e8acaf04f5b8",
   "metadata": {},
   "outputs": [],
   "source": [
    "# Que.4 Ans\n"
   ]
  },
  {
   "cell_type": "code",
   "execution_count": 2,
   "id": "b495021d-7f27-4ee4-a494-238a8b60d43f",
   "metadata": {},
   "outputs": [
    {
     "data": {
      "text/plain": [
       "Ttest_indResult(statistic=0.7986934439577041, pvalue=0.4430236621321544)"
      ]
     },
     "execution_count": 2,
     "metadata": {},
     "output_type": "execute_result"
    }
   ],
   "source": [
    "# Que.5 Ans\n",
    "import scipy.stats as stats\n",
    "import numpy as np\n",
    "data_group1=np.array([14,1,3,87,90,87])\n",
    "data_group2=np.array([54,14,8,3,87,5])\n",
    "stats.ttest_ind(a=data_group1, b=data_group2, equal_var=True)"
   ]
  },
  {
   "cell_type": "code",
   "execution_count": null,
   "id": "a42e3e7a-9ec8-48bc-983b-a99fe511fcc0",
   "metadata": {},
   "outputs": [],
   "source": [
    "# Que.6 Ans\n",
    "Null & Alternative Hypothesis : The null hypothesis of a test always predicts no effect or no relationship between variales,while the alternative \n",
    "                                hypothesis states your research prediction of an effect or relationship."
   ]
  },
  {
   "cell_type": "code",
   "execution_count": null,
   "id": "a2fb3f71-9e66-4e38-8ab0-6abff4673d73",
   "metadata": {},
   "outputs": [],
   "source": [
    "# Que.7 Ans\n",
    "The 7 steps  Process of Statistical Hypothesis Testing : \n",
    "1.State the Null Hypothesis\n",
    "2.State the Alternative Hypothesis\n",
    "3.set\n",
    "4.Collect data\n",
    "5.Calculate a test statistic\n",
    "6.Construct Acceptance\n",
    "7.Based on Steps 5 & 6, draw a conclusion about."
   ]
  },
  {
   "cell_type": "code",
   "execution_count": null,
   "id": "7e0d9c39-8e8a-48ba-b28a-a88a72b641c4",
   "metadata": {},
   "outputs": [],
   "source": [
    "# Que.8 Ans\n",
    "p-value : The probability under the assumptions of no effect or no difference of obtaing a result equal to or more extreme than what was actually \n",
    "          observed.\n",
    "    \n",
    "Significance : p-values are used in hypothesis tsting to help decide whether to reject the null hypothesis.P<0.05 the highly significant."
   ]
  },
  {
   "cell_type": "code",
   "execution_count": null,
   "id": "8fb1ffcc-9c3b-4b6d-b78f-3d4717873069",
   "metadata": {},
   "outputs": [],
   "source": [
    "# Que.11 Ans\n",
    "Students t distribution : Is a type of probability distribution that is similar to the normal distribution with its bell shape but has heavier tails.\n",
    "                          It is use for estimating population parameters for small sample sizes or unknown variances."
   ]
  },
  {
   "cell_type": "code",
   "execution_count": null,
   "id": "a4932414-ab26-417e-a8eb-680920335fab",
   "metadata": {},
   "outputs": [],
   "source": [
    "# Que.12 Ans\n",
    "t-statistic : The ratio of the departure of the estimated value of a parameter from its hypothesized value to its standard error."
   ]
  },
  {
   "cell_type": "code",
   "execution_count": null,
   "id": "ef6d945b-8021-49b4-b678-d79c5516a5fb",
   "metadata": {},
   "outputs": [],
   "source": [
    "# Que."
   ]
  },
  {
   "cell_type": "code",
   "execution_count": null,
   "id": "7e9bedad-caaa-4eba-b56b-463c29ab8163",
   "metadata": {},
   "outputs": [],
   "source": []
  },
  {
   "cell_type": "code",
   "execution_count": null,
   "id": "d99956d7-ad76-4e36-8c24-2195bab9c8b6",
   "metadata": {},
   "outputs": [],
   "source": []
  },
  {
   "cell_type": "code",
   "execution_count": null,
   "id": "e0ed6ba4-517c-4831-a689-571dbaa6d845",
   "metadata": {},
   "outputs": [],
   "source": []
  },
  {
   "cell_type": "code",
   "execution_count": null,
   "id": "b9a70550-aec0-4485-919c-4d638a85a336",
   "metadata": {},
   "outputs": [],
   "source": []
  },
  {
   "cell_type": "code",
   "execution_count": null,
   "id": "ecce43bb-7af0-4574-ac09-3cef93d3e025",
   "metadata": {},
   "outputs": [],
   "source": []
  }
 ],
 "metadata": {
  "kernelspec": {
   "display_name": "Python 3 (ipykernel)",
   "language": "python",
   "name": "python3"
  },
  "language_info": {
   "codemirror_mode": {
    "name": "ipython",
    "version": 3
   },
   "file_extension": ".py",
   "mimetype": "text/x-python",
   "name": "python",
   "nbconvert_exporter": "python",
   "pygments_lexer": "ipython3",
   "version": "3.10.8"
  }
 },
 "nbformat": 4,
 "nbformat_minor": 5
}
