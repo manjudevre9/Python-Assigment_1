{
 "cells": [
  {
   "cell_type": "code",
   "execution_count": null,
   "id": "185e9a2d-baf3-4de6-9734-e01400f5ec50",
   "metadata": {},
   "outputs": [],
   "source": [
    "Que.1.Is there any difference in the data type of variables list_& array_list?If there is then write\n",
    "      a code to print the data types of both the variables."
   ]
  },
  {
   "cell_type": "code",
   "execution_count": 1,
   "id": "7e0be961-31a3-43f2-8ae7-ce6f7d77e9c6",
   "metadata": {},
   "outputs": [
    {
     "name": "stdout",
     "output_type": "stream",
     "text": [
      "Data type of variable_list: <class 'list'>\n",
      "Data type of array_list: <class 'numpy.ndarray'>\n"
     ]
    }
   ],
   "source": [
    "import numpy as np\n",
    "\n",
    "variable_list=['1','2','3','4','5']\n",
    "array_list=np.array(object=list)\n",
    "\n",
    "print(\"Data type of variable_list:\",type(variable_list))\n",
    "print(\"Data type of array_list:\",type(array_list))\n"
   ]
  },
  {
   "cell_type": "code",
   "execution_count": null,
   "id": "1d88691e-8d55-4512-a915-845f9a958633",
   "metadata": {},
   "outputs": [],
   "source": [
    "Que.2.Write a code to print the data tyape of each & every element of both the variables_list &\n",
    "      array_list."
   ]
  },
  {
   "cell_type": "code",
   "execution_count": 4,
   "id": "a6dd64c3-f509-4016-bf10-dfa67a52780a",
   "metadata": {},
   "outputs": [
    {
     "name": "stdout",
     "output_type": "stream",
     "text": [
      "Data types of element in variable_list:\n",
      "Element:1,Data type:<class 'str'>\n",
      "Element:2,Data type:<class 'str'>\n",
      "Element:3,Data type:<class 'str'>\n",
      "Element:4,Data type:<class 'str'>\n",
      "Element:5,Data type:<class 'str'>\n",
      "\n",
      "Data types of element in array_list:\n",
      "Element:1,Data type:<class 'numpy.int64'>\n",
      "Element:2,Data type:<class 'numpy.int64'>\n",
      "Element:3,Data type:<class 'numpy.int64'>\n",
      "Element:4,Data type:<class 'numpy.int64'>\n",
      "Element:5,Data type:<class 'numpy.int64'>\n"
     ]
    }
   ],
   "source": [
    "import numpy as np\n",
    "\n",
    "variable_list=['1','2','3','4','5']\n",
    "array_list=np.array([1,2,3,4,5])\n",
    "\n",
    "print(\"Data types of element in variable_list:\")\n",
    "for element in variable_list:\n",
    "    print(f\"Element:{element},Data type:{type(element)}\")\n",
    "    \n",
    "print(\"\\nData types of element in array_list:\")\n",
    "for element in array_list:\n",
    "    print(f\"Element:{element},Data type:{type(element)}\")\n",
    "    "
   ]
  },
  {
   "cell_type": "code",
   "execution_count": null,
   "id": "bfaf3ec5-0796-43e0-b39f-0b1b73501b60",
   "metadata": {},
   "outputs": [],
   "source": [
    "Que.3.Write a code to find the following characteristics of variable,num_array:1.shape.2.size."
   ]
  },
  {
   "cell_type": "code",
   "execution_count": 5,
   "id": "2ce0556e-42e5-4bd6-b89c-31137383c75b",
   "metadata": {},
   "outputs": [
    {
     "name": "stdout",
     "output_type": "stream",
     "text": [
      "Shape & size characteristics of variable_list:\n",
      "Lenght:6\n",
      "Type:<class 'list'>\n",
      "\n",
      "Shape & size characteristics of array_list:\n",
      "Shape:(5,)\n",
      "Size:5\n",
      "Number of dimensions:1\n",
      "Type:<class 'numpy.ndarray'>\n"
     ]
    }
   ],
   "source": [
    "import numpy as np\n",
    "\n",
    "variable_list=[1,2,3,'a','b',4.5]\n",
    "array_list=np.array([1,2,3,4,5])\n",
    "\n",
    "print(\"Shape & size characteristics of variable_list:\")\n",
    "print(f\"Lenght:{len(variable_list)}\")\n",
    "print(f\"Type:{type(variable_list)}\")\n",
    "\n",
    "print(\"\\nShape & size characteristics of array_list:\")\n",
    "print(f\"Shape:{array_list.shape}\")\n",
    "print(f\"Size:{array_list.size}\")\n",
    "print(f\"Number of dimensions:{array_list.ndim}\")\n",
    "print(f\"Type:{type(array_list)}\")"
   ]
  },
  {
   "cell_type": "code",
   "execution_count": null,
   "id": "094a8f7d-775f-4c77-9ee8-932ae15675c5",
   "metadata": {},
   "outputs": [],
   "source": [
    "Que.4.write a code to create numpy array of 3*3 matrix containing zeros only,using a numpy array\n",
    "      creation function."
   ]
  },
  {
   "cell_type": "code",
   "execution_count": 6,
   "id": "49b96b9c-2867-494a-be57-3693694f98b2",
   "metadata": {},
   "outputs": [
    {
     "name": "stdout",
     "output_type": "stream",
     "text": [
      "[[0. 0. 0.]\n",
      " [0. 0. 0.]\n",
      " [0. 0. 0.]]\n"
     ]
    }
   ],
   "source": [
    "import numpy as np\n",
    "\n",
    "array_zeros=np.zeros((3,3))\n",
    "print(array_zeros)"
   ]
  },
  {
   "cell_type": "code",
   "execution_count": null,
   "id": "edbee08c-2768-4afb-a514-e3ffe09a314c",
   "metadata": {},
   "outputs": [],
   "source": [
    "Que.5.Create an identity matrix of shape(5,5)using numpy function. "
   ]
  },
  {
   "cell_type": "code",
   "execution_count": null,
   "id": "ef1091bb-cc27-45d1-8216-712f86958efb",
   "metadata": {},
   "outputs": [],
   "source": [
    "import numpy as np\n",
    "\n",
    "identity_matr"
   ]
  }
 ],
 "metadata": {
  "kernelspec": {
   "display_name": "Python 3 (ipykernel)",
   "language": "python",
   "name": "python3"
  },
  "language_info": {
   "codemirror_mode": {
    "name": "ipython",
    "version": 3
   },
   "file_extension": ".py",
   "mimetype": "text/x-python",
   "name": "python",
   "nbconvert_exporter": "python",
   "pygments_lexer": "ipython3",
   "version": "3.10.8"
  }
 },
 "nbformat": 4,
 "nbformat_minor": 5
}
