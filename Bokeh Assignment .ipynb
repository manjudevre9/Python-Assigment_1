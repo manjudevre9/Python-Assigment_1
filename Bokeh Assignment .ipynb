{
 "cells": [
  {
   "cell_type": "code",
   "execution_count": null,
   "id": "0c865f73-a0c9-4886-a614-bcabe59444ec",
   "metadata": {},
   "outputs": [],
   "source": [
    "Que.1.How can you create a Bokeh plot using Python code?\n",
    "Ans.Bokeh is a popular Python library for creating interactive visualiations.To create a Bokeh plot,\n",
    "    follow these steps.\n",
    "    1.Install Bokeh:pip install bokeh\n",
    "    2.Import Bokeh:import bokeh,ploting as bp\n",
    "    3.Create a figure:p=bp.figure(title=\"my Plot\",x_axis_label=\"X\",y_axis_label=\"Y\")\n",
    "    4.Add a glyph(e.g,line,circle,rectangle):p.line(x,y)or p.circle(x,y)\n",
    "    5.Show the plot:bp.show(p)"
   ]
  },
  {
   "cell_type": "code",
   "execution_count": null,
   "id": "541e535f-697f-4cbc-a730-193971e8e170",
   "metadata": {},
   "outputs": [],
   "source": [
    "Que.2.What are glyphs in Bokeh,& how can you add them to a Bokeh plot? Explain with an example.\n",
    "Ans.Bokeh:In bokeh,glyphs are visual elements used to represent data points in a plot.They are rendered \n",
    "          at specific coordinates on the plot & can be customized in various ways.\n",
    "    "
   ]
  },
  {
   "cell_type": "code",
   "execution_count": null,
   "id": "f2b8df19-9d5e-4225-9853-43eec192c98e",
   "metadata": {},
   "outputs": [],
   "source": [
    "import bokeh.plotting as bp\n",
    "from bokeh.embed import show\n",
    "\n",
    "x=[1,2,3,4,5]\n",
    "y=[2,4,6,8,10]\n",
    "\n",
    "p=bp.figure(title=\"Glyphs Example\",x_axis_lable=\"X\",y_axis_lable=\"Y\")\n",
    "\n",
    "p.circle(x,y)\n",
    "p.line(x,y)\n",
    "p.triangle(x,y,size=10,color='red')\n",
    "p.squre(x,y,size=10,color='green')\n",
    "p.text(x,y,text=[\"A\",\"B\",\"C\",\"D\",\"E\"])\n",
    "\n",
    "show(p)"
   ]
  },
  {
   "cell_type": "code",
   "execution_count": null,
   "id": "1db4d352-b0d8-4f3f-a6f4-10a99124e1b4",
   "metadata": {},
   "outputs": [],
   "source": [
    "Que.3.How can you customiz the appearance of a Bokeh plot,including the axes,title,& legend?\n",
    "Ans.Bokeh is a great library for creating interactive plots in Python.To customize the appearance of a\n",
    "    Bokeh plot,including the axes,title,& legend,you can use barious options aavailable in the library.\n",
    "    \n",
    "Axis:\n",
    "    `p.xaxis.visible=False to hide the x_axis\n",
    "    `p.yaxis.visible=False to hide the y_axis\n",
    "    `p.xaxis.axis_lable=\"Custom X-axis lable\" to set a custom lable\n",
    "    `p.yaxis.axis_lable=\"Custom Y-axis lable\"  to set a custom lable\n",
    "\n",
    "Title:\n",
    "    `p.title=\"Custom Plot Title\"to set a custom title\n",
    "    `p.title_text_font_size=\"16pt\" to set the font size of the title\n",
    "    \n",
    "Legend:\n",
    "    `p.legend.location=\"top_right\" to move the legend to the top-right corner\n",
    "    `p.legend.orientation=\"horizontal\" to change the legend orientation\n",
    "    `p.legend.lable_text_font_size=\"10pt\" to set the font size of legend lables"
   ]
  },
  {
   "cell_type": "code",
   "execution_count": null,
   "id": "de49487d-5417-4ed2-8eb3-3043a386b792",
   "metadata": {},
   "outputs": [],
   "source": [
    "Que.4.What is a Bokeh server,& how can you use it to create interactive plots that can be updated in real\n",
    "      time?\n",
    "Ans. A Bokeh server is a web server that enables you to create interactive plots that can be updated in\n",
    "     real time.\n",
    "    1.Create web based interactive visualization.\n",
    "    2.Updated plots  in real time using Python code.\n",
    "    3.Deploy your visualizations as web applications.\n",
    "    \n",
    "To use a Bokeh server,you'll need to:\n",
    "1.Install Bokeh & its dependencies\n",
    "2.Create a Python script that generates your plot using Bokeh's high-level interface(e.g.figure(),line())\n",
    "3.Use the curdoc() functin to create a bokeh documents\n",
    "4.Add your plot to the document using curdoc().add_root()\n",
    "5.Start the Bokeh server using bokeh server--show (link unavailable)\n",
    "\n",
    "some key features of Bokeh server include:\n",
    "    1.Real-time update\n",
    "    2.Interactive tools\n",
    "    3.Web-based deployment\n",
    "    4.Multi-user support"
   ]
  },
  {
   "cell_type": "code",
   "execution_count": null,
   "id": "700f2317-b287-4209-9091-9b8facb3298e",
   "metadata": {},
   "outputs": [],
   "source": [
    "Que.5.How can you embed a Bokeh plot into a web page or dashboaerd using Flask or Django?\n",
    "Ans.Flask:\n",
    "    1.Create a Bokeh plot using the figure() function\n",
    "    2.Convert the plot to HTML using the components() funtion\n",
    "    3.Create a Flask route to server the plot \n",
    "    4.Use Jinja2 templating to embed the plot in an HTML template\n",
    "    5.Return the HTML template from the Flask rout\n",
    "    "
   ]
  },
  {
   "cell_type": "code",
   "execution_count": null,
   "id": "554bbc44-f714-4932-8b71-002fe3ecb0dd",
   "metadata": {},
   "outputs": [],
   "source": [
    "app=Flask(_name_)\n",
    "\n",
    "plot=figure()\n",
    "plot.curcle([1,2,3],[1,2,3])\n",
    "script,div=components(plot)\n",
    "def index():\n",
    "    return render_template('index.html',script=script,div=div)\n",
    "\n",
    "if_name_=='_main_':\n",
    "    app.run()"
   ]
  },
  {
   "cell_type": "code",
   "execution_count": null,
   "id": "613f822e-4e65-4c93-be94-e24b0bf06097",
   "metadata": {},
   "outputs": [],
   "source": [
    "Django:\n",
    "    1.Create a Bokeh plot using the figure() function\n",
    "    2.Convert the plot to HTML using the components() function\n",
    "    3.Create a Django view to server to serve the plot\n",
    "    4.Use Django tempiationg to embed the plot in an HTML template\n",
    "    5.Return the HTML template from the Django view"
   ]
  },
  {
   "cell_type": "code",
   "execution_count": null,
   "id": "76e137e2-b767-4750-8857-0b8c27ba2a12",
   "metadata": {},
   "outputs": [],
   "source": [
    "plot=figure()\n",
    "plot.circle([1,2,3][1,2,3])\n",
    "script,div=components(plot)\n",
    "   return render(request,'index.html',{})"
   ]
  }
 ],
 "metadata": {
  "kernelspec": {
   "display_name": "Python 3 (ipykernel)",
   "language": "python",
   "name": "python3"
  },
  "language_info": {
   "codemirror_mode": {
    "name": "ipython",
    "version": 3
   },
   "file_extension": ".py",
   "mimetype": "text/x-python",
   "name": "python",
   "nbconvert_exporter": "python",
   "pygments_lexer": "ipython3",
   "version": "3.10.8"
  }
 },
 "nbformat": 4,
 "nbformat_minor": 5
}
