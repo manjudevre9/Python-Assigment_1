{
 "cells": [
  {
   "cell_type": "code",
   "execution_count": null,
   "id": "20255df3-a6a6-4292-a8ee-84d5902bd060",
   "metadata": {},
   "outputs": [],
   "source": [
    "Que.1.List any five fumction of the pandas library with execution.\n",
    "Ans.1.read_csv():Load a csv file into a DataFrame.\n",
    "import pandas as pd\n",
    "data=pd.read_csv('data.csv')\n",
    "print(data)\n",
    "    \n",
    "    2.head():Display the first few rows of a DataFrame.\n",
    "import pandas as pd\n",
    "data=pd.read_csv('data.csv')\n",
    "print(data.head())\n",
    "\n",
    "    3.info():Display concise summary of a DataFrame.\n",
    "import pandas as pd\n",
    "data=pd..read_csv('data.csv')\n",
    "print(data.info())\n",
    "\n",
    "    4.groupby():Group a DataFrame by a column & apply a function.\n",
    "import pandas as pd\n",
    "data=pd.read_csv('data.csv')\n",
    "print(data.groupby('column_name').maen())\n",
    "\n",
    "    5.merge():Mergen two DataFrame based on a common column.\n",
    "import pandas as pd\n",
    "data1=pd.read_csv('data1.csv')\n",
    "data2=pd.read_csv('data2.csv')\n",
    "print(pd.merge(data1,data2.on='common_column'))"
   ]
  },
  {
   "cell_type": "code",
   "execution_count": 6,
   "id": "10cab1ba-0331-47c6-b48f-a1c8b9ad3129",
   "metadata": {},
   "outputs": [
    {
     "name": "stdout",
     "output_type": "stream",
     "text": [
      "Original DataFrame\n",
      "\n",
      "Reindenx DataFrame\n",
      "     A    B    C\n",
      "1  2.0  5.0  8.0\n",
      "3  NaN  NaN  NaN\n",
      "5  NaN  NaN  NaN\n"
     ]
    }
   ],
   "source": [
    "#Que.2.Given a pandas dataframe df with column 'A','B',&'C' write a Python function to\n",
    "#re-index the dataframe with a new index that starts from 1 & increment  bt 2 for each row.\n",
    "import pandas as pd\n",
    "def reindex_df(df):\n",
    "    new_index=range(1,len(df)*2+1,2)\n",
    "    df_reindex=df.reindex(index=new_index)\n",
    "    return df_reindex\n",
    "df=pd.DataFrame({'A':[1,2,3],'B':[4,5,6],'C':[7,8,9]})\n",
    "print('Original DataFrame')\n",
    "\n",
    "df_reindex=reindex_df(df)\n",
    "print('\\nReindenx DataFrame')\n",
    "print(df_reindex)\n",
    "    \n"
   ]
  },
  {
   "cell_type": "code",
   "execution_count": 11,
   "id": "2ff7d890-6778-480c-8636-578cea4bb5cd",
   "metadata": {},
   "outputs": [],
   "source": [
    "#Que.3.You have a pandas datafeame df with a column named Values write a python function that iterates \n",
    "      #over the datafeame & calculate the sum of the first three values in the 'Values' column.The function\n",
    "      #should print the sum to the console.\n",
    "#Ans.\n",
    "import pandas as pd\n",
    "\n",
    "def sum_first_three_values(df):\n",
    "    if 'Values' in df.columns & len(df)>=3:\n",
    "        sum_first_three=df['Values'].head(3).sum()\n",
    "        print(\"Sum of the first three values:\",sum_first_three)\n",
    "    else:\n",
    "        print(\"Error:'Values'column dose not exist or has less than three rows.\")\n",
    "        \n",
    "df=pd.DataFrame({'Values':[10,20,30,40,50]})\n",
    "sum_first_three_values(df)\n",
    "\n",
    "# The error massage printed."
   ]
  },
  {
   "cell_type": "code",
   "execution_count": 12,
   "id": "20daca46-e56b-447c-83c4-df1291841294",
   "metadata": {},
   "outputs": [
    {
     "name": "stdout",
     "output_type": "stream",
     "text": [
      "              Text  Word-Count\n",
      "0      Hello world           2\n",
      "1   This is a test           4\n",
      "2  Another example           2\n"
     ]
    }
   ],
   "source": [
    "#Que.4. Given a pandas dataframe df with a column 'Text',write a python functin to create a new column\n",
    "#'Word-count' that contains the number of words in each row of the 'Text' column.\n",
    "#Ans.\n",
    "import pandas as pd\n",
    "\n",
    "def add_word_count_column(df):\n",
    "    df['Word-Count']=df['Text'].apply(lambda x:len(x.split()))\n",
    "    return df\n",
    "df=pd.DataFrame({'Text':['Hello world','This is a test','Another example']})\n",
    "df=add_word_count_column(df)\n",
    "print(df)"
   ]
  },
  {
   "cell_type": "code",
   "execution_count": null,
   "id": "4325ff50-5b64-41af-8924-fa6c2b4e0ee8",
   "metadata": {},
   "outputs": [],
   "source": [
    "Que.5.How are dataFrame.size() & dataframe.shape() are different.\n",
    "Ans.daraframe.size:this is return the total number of element in the DataFrame,which is the product of the \n",
    "    number of rows & columns.Its equivalent to dataframe.shape[0]*dataframe.shape[1].\n",
    "    \n",
    "    dataframe.shape:on the other hand, return a tuple representing the dimensionally of the DataFrame,with the \n",
    "    first element being number of rows(axis=0) & the second element being the number of columns (axis=1)."
   ]
  },
  {
   "cell_type": "code",
   "execution_count": 14,
   "id": "17b0788d-9157-4974-857b-e8cd40cb93ab",
   "metadata": {},
   "outputs": [
    {
     "name": "stdout",
     "output_type": "stream",
     "text": [
      "9\n",
      "(3, 3)\n"
     ]
    }
   ],
   "source": [
    "import pandas as pd\n",
    "df=pd.DataFrame({'A':[1,2,3],'B':[4,5,6],'C':[7,8,9]})\n",
    "print(df.size)\n",
    "print(df.shape)"
   ]
  },
  {
   "cell_type": "code",
   "execution_count": null,
   "id": "c8164cb7-b164-495d-a894-4763ef9844da",
   "metadata": {},
   "outputs": [],
   "source": [
    "Que.6.Which function of pandas do we used to read an Excel file.\n",
    "Ans.read_excel is used."
   ]
  },
  {
   "cell_type": "code",
   "execution_count": null,
   "id": "28c88bd2-ef48-4926-bc5d-a82760f5ab68",
   "metadata": {},
   "outputs": [],
   "source": [
    "Que.7.You have a pandas dataframe df that contains a column name 'Email'that contains email address in the \n",
    "      format 'username@domain.com'.write a python function that creates a new column username in df that \n",
    "      contains only the username part of each address.\n",
    "Ans.        "
   ]
  },
  {
   "cell_type": "code",
   "execution_count": 17,
   "id": "29457325-e3ea-45eb-a964-a821720b9cc5",
   "metadata": {},
   "outputs": [
    {
     "name": "stdout",
     "output_type": "stream",
     "text": [
      "                  Email  username\n",
      "0  john.doe@example.com  john.doe\n"
     ]
    }
   ],
   "source": [
    "import pandas as pd\n",
    "\n",
    "def extract_username(df):\n",
    "    df['username']=df['Email'].apply(lambda x:x.split('@')[0])\n",
    "    return df\n",
    "df=pd.DataFrame({'Email':['john.doe@example.com']}) \n",
    "df=extract_username(df)\n",
    "print(df)                      \n"
   ]
  },
  {
   "cell_type": "code",
   "execution_count": null,
   "id": "2fe92ff2-0c90-467d-ad4d-c5f30827b3b1",
   "metadata": {},
   "outputs": [],
   "source": [
    "Que.8.You have a pandas dataframe df with column 'A','B',& 'C',write a python function that\n",
    "      select all rows where the value in column 'A' is greater than 5 & the value in column 'B'\n",
    "      is less than 10. The function should return a new dataframe that contains only the selected\n",
    "      rows.\n",
    "Ans.        "
   ]
  },
  {
   "cell_type": "code",
   "execution_count": 19,
   "id": "cd5a1f4f-78a3-464e-8975-80238cc40638",
   "metadata": {},
   "outputs": [
    {
     "name": "stdout",
     "output_type": "stream",
     "text": [
      "   A  B  C\n",
      "1  8  2  7\n",
      "2  6  9  4\n",
      "4  9  1  2\n"
     ]
    }
   ],
   "source": [
    "import pandas as pd\n",
    "\n",
    "def select_rows(df):\n",
    "    return df[(df['A']>5)&(df['B']<10)]\n",
    "df=pd.DataFrame({'A':[3,8,6,2,9],'B':[5,2,9,3,1],'C':[1,7,4,5,2]})\n",
    "new_df=select_rows(df)\n",
    "print(new_df)"
   ]
  },
  {
   "cell_type": "code",
   "execution_count": null,
   "id": "34ddcbd9-c504-4933-b992-3903549d4d44",
   "metadata": {},
   "outputs": [],
   "source": []
  }
 ],
 "metadata": {
  "kernelspec": {
   "display_name": "Python 3 (ipykernel)",
   "language": "python",
   "name": "python3"
  },
  "language_info": {
   "codemirror_mode": {
    "name": "ipython",
    "version": 3
   },
   "file_extension": ".py",
   "mimetype": "text/x-python",
   "name": "python",
   "nbconvert_exporter": "python",
   "pygments_lexer": "ipython3",
   "version": "3.10.8"
  }
 },
 "nbformat": 4,
 "nbformat_minor": 5
}
