{
 "cells": [
  {
   "cell_type": "code",
   "execution_count": null,
   "id": "09709933-16bf-4af3-bcc2-3c0cbe37d573",
   "metadata": {},
   "outputs": [],
   "source": [
    "## Que.1.Ans\n",
    "class:A class is like object constructor,or a \"blueprint\" for creating objects.\n",
    "A class is template definition of the methods and variables in a particular kind of object.\n",
    "Ex. A car as a class that has characteristics like steering wheels,seats,brakes,etc.& behavior is mobility.\n",
    "ex.of class:\n",
    "\n",
    "class pwskills:\n",
    "    pass\n",
    "\n",
    "object: An object is an instance of a class which has those properties & behaviours attached.\n",
    "ex.of object:\n",
    "\n",
    "obj=pwskills()"
   ]
  },
  {
   "cell_type": "code",
   "execution_count": null,
   "id": "a5a3fd0c-3c8e-4619-bf9e-42b4b5bfb450",
   "metadata": {},
   "outputs": [],
   "source": [
    "## Que.2. Ans.\n",
    "Four pillors of OOPS.\n",
    "!.Abstraction\n",
    "2.Encapsulation\n",
    "3.Inheritance\n",
    "4.Polymorphism"
   ]
  },
  {
   "cell_type": "code",
   "execution_count": null,
   "id": "63564dd8-59db-44dc-b0ec-806c0b571d89",
   "metadata": {},
   "outputs": [],
   "source": [
    "## Que.3 Ans.\n",
    "The __init__method is the Python equivalent of the C++ constructor in an object-oriented approch.The __init__ function is called every time \n",
    "an object is created from a class. The __init__ method lets the class initialize the objects attributes & serves no other purpose.it is only \n",
    "used whthin classes.\n",
    "\n",
    "ex.\n",
    "\n",
    "class pwskills:\n",
    "    \n",
    "    def __init__(self,name,email):\n",
    "        self.name=name\n",
    "        self.email=email"
   ]
  },
  {
   "cell_type": "code",
   "execution_count": null,
   "id": "2bf19fc0-8341-4230-acdc-85e0b0cfade9",
   "metadata": {},
   "outputs": [],
   "source": [
    "## Que 4. Ans.\n",
    "The self variable is used to represent the instance of the class.\n",
    "Python uses the self parameter to refer to instance attributes & methods of class."
   ]
  },
  {
   "cell_type": "code",
   "execution_count": null,
   "id": "f6a4fbf1-4b6d-49ec-8257-bb8740295e78",
   "metadata": {},
   "outputs": [],
   "source": [
    "## Que.5. Ans.\n",
    "Inheritance: It is allows us to define a class that inherits all the methods & properties from another class.\n",
    "\n",
    "ex. 1. single inheritance:"
   ]
  },
  {
   "cell_type": "code",
   "execution_count": null,
   "id": "70570b3f-ada4-4c85-923c-1ca2fb65e2de",
   "metadata": {},
   "outputs": [],
   "source": [
    "class Parent:\n",
    "    def func1(self):\n",
    "        print(\"this function is in parent class.\")\n",
    "       \n",
    "    class Child(Parent):\n",
    "        def func2(self):\n",
    "            print(\"this function is in child class.\")\n",
    "            \n",
    "                     \n",
    "    object=Child()\n",
    "    object.func1()\n",
    "    object.func2()"
   ]
  },
  {
   "cell_type": "code",
   "execution_count": null,
   "id": "51f38cd5-1a93-4d1f-969d-5ac4ee63a317",
   "metadata": {},
   "outputs": [],
   "source": [
    "ex. 2.Multiple inheritance"
   ]
  },
  {
   "cell_type": "code",
   "execution_count": null,
   "id": "13616cff-af21-417f-bd36-a03e221dedeb",
   "metadata": {},
   "outputs": [],
   "source": [
    "class Class1:\n",
    "    def m(self):\n",
    "        print(\"In Class1\")\n",
    "      \n",
    "    class Class2(Class1):\n",
    "        def m(self):\n",
    "            print(\"In Class2\")\n",
    "            \n",
    "    class Class3(Class2):\n",
    "        def m(self):\n",
    "            print(\"In Class3\")\n",
    "            \n",
    "    class Class4(Class2,Class3):\n",
    "        def m(self):\n",
    "            print(\"In Class4\")\n",
    "            \n",
    "obj=Class4()\n",
    "obj.m()\n",
    "Class2.m(obj)\n",
    "Class3.m(obj)\n",
    "Class1.m(obj)"
   ]
  },
  {
   "cell_type": "code",
   "execution_count": null,
   "id": "fdfbab26-9863-4137-847b-dc6d6845c3f2",
   "metadata": {},
   "outputs": [],
   "source": [
    "ex. 3.Multilevel Inheritance"
   ]
  },
  {
   "cell_type": "code",
   "execution_count": 20,
   "id": "4cf91c89-9f2d-48fd-b457-0aefa2268284",
   "metadata": {},
   "outputs": [
    {
     "name": "stdout",
     "output_type": "stream",
     "text": [
      "Employee name khushi\n",
      "salary is 10000\n"
     ]
    },
    {
     "ename": "AttributeError",
     "evalue": "'Designation' object has no attribute 'designation'",
     "output_type": "error",
     "traceback": [
      "\u001b[0;31m---------------------------------------------------------------------------\u001b[0m",
      "\u001b[0;31mAttributeError\u001b[0m                            Traceback (most recent call last)",
      "Cell \u001b[0;32mIn[20], line 16\u001b[0m\n\u001b[1;32m     14\u001b[0m call\u001b[38;5;241m.\u001b[39mname()\n\u001b[1;32m     15\u001b[0m call\u001b[38;5;241m.\u001b[39msalary()\n\u001b[0;32m---> 16\u001b[0m \u001b[43mcall\u001b[49m\u001b[38;5;241;43m.\u001b[39;49m\u001b[43mdesignation\u001b[49m()\n",
      "\u001b[0;31mAttributeError\u001b[0m: 'Designation' object has no attribute 'designation'"
     ]
    }
   ],
   "source": [
    "class Employees():\n",
    "    def name(self):\n",
    "        print(\"Employee name khushi\")\n",
    "        \n",
    "class salary(Employees):\n",
    "    def salary(self):\n",
    "        print(\"salary is 10000\")\n",
    "        \n",
    "class Designation(salary):\n",
    "    def Desig(self):\n",
    "        print(\"Designation:Test Engineer\")\n",
    "        \n",
    "call =Designation()\n",
    "call.name()\n",
    "call.salary()\n",
    "call.designation()"
   ]
  },
  {
   "cell_type": "code",
   "execution_count": null,
   "id": "85f694f9-d56f-4909-8100-83e94fd7caef",
   "metadata": {},
   "outputs": [],
   "source": []
  },
  {
   "cell_type": "code",
   "execution_count": null,
   "id": "2c34ff68-246d-4b5e-b532-a8c7de1a2f0c",
   "metadata": {},
   "outputs": [],
   "source": []
  },
  {
   "cell_type": "code",
   "execution_count": null,
   "id": "2abdfc15-7d39-4295-b1aa-7111bb71e0c4",
   "metadata": {},
   "outputs": [],
   "source": []
  }
 ],
 "metadata": {
  "kernelspec": {
   "display_name": "Python 3 (ipykernel)",
   "language": "python",
   "name": "python3"
  },
  "language_info": {
   "codemirror_mode": {
    "name": "ipython",
    "version": 3
   },
   "file_extension": ".py",
   "mimetype": "text/x-python",
   "name": "python",
   "nbconvert_exporter": "python",
   "pygments_lexer": "ipython3",
   "version": "3.10.8"
  }
 },
 "nbformat": 4,
 "nbformat_minor": 5
}
