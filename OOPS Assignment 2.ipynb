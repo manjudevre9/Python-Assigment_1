{
 "cells": [
  {
   "cell_type": "code",
   "execution_count": null,
   "id": "d691e3a1-2e0b-465b-9fe3-8123e1509106",
   "metadata": {},
   "outputs": [],
   "source": [
    "## Que.1.Ans\n",
    "Abstraction \"displays\" only the relevant attributes of objects & \"hides\" the unnecessary details.\n",
    "for ex. when we are driving a car,we are only concerned about driving the car like start/stop the car,accelerate/break,etc."
   ]
  },
  {
   "cell_type": "code",
   "execution_count": null,
   "id": "85a2f700-e651-45d7-afde-ef8c0a701006",
   "metadata": {},
   "outputs": [],
   "source": [
    "## Que.2.Ans\n",
    "Abstraction is hiding the details & implementation of the code.\n",
    "Encapsulation is hiding the data & controlling the visibility of the code.\n",
    "for ex. The interaction between a user & a mobile phone as an example of encapsulation.The user does not need to understand the internal workings of \n",
    "        the phone inorder to utilise it,which is referred to as abstraction."
   ]
  },
  {
   "cell_type": "code",
   "execution_count": null,
   "id": "854f1cd5-174b-45f2-a6b8-c61f2e92e590",
   "metadata": {},
   "outputs": [],
   "source": [
    "## Que.3.Ans.\n",
    "abc module:The 'abc' module in Python library provides the infrastructure for defining custom abstract base classes.\n",
    "'abc' works by marking methods of the base class as abstract. This is done by @absttractmethod decorator."
   ]
  },
  {
   "cell_type": "code",
   "execution_count": null,
   "id": "36c736e3-06d3-4a08-9e6c-64722e77f472",
   "metadata": {},
   "outputs": [],
   "source": [
    "## Que.4.Ans.\n",
    "Data Abstraction i Python can be achieved through creating abstract classes & inheriting them later.Before discussing what abstract classes are,\n",
    "let us have a brief introduction of inheritance.Inheritance in OOPs is a way through which one class inherits the attributes & methods of another \n",
    "class.\n"
   ]
  },
  {
   "cell_type": "code",
   "execution_count": null,
   "id": "0c7a7e77-f8f3-4ad1-bafc-d329c8dfeaa7",
   "metadata": {},
   "outputs": [],
   "source": [
    "## Que.5.Ans.\n",
    "Abstract classes are not complete,as they may have some methods that are not defined.So we cannot create"
   ]
  }
 ],
 "metadata": {
  "kernelspec": {
   "display_name": "Python 3 (ipykernel)",
   "language": "python",
   "name": "python3"
  },
  "language_info": {
   "codemirror_mode": {
    "name": "ipython",
    "version": 3
   },
   "file_extension": ".py",
   "mimetype": "text/x-python",
   "name": "python",
   "nbconvert_exporter": "python",
   "pygments_lexer": "ipython3",
   "version": "3.10.8"
  }
 },
 "nbformat": 4,
 "nbformat_minor": 5
}
