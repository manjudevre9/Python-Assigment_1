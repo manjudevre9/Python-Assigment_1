{
 "cells": [
  {
   "cell_type": "code",
   "execution_count": null,
   "id": "13c314ab-3e16-45bb-836b-a1c534d7c826",
   "metadata": {},
   "outputs": [],
   "source": [
    "## Que.1 Ans\n",
    "Probability Mass Function (PMF) : Probability mass function find the likelihood of a particular outcome.\n",
    "                                  ex. we can use a PMF to calculate the probability of getting exactly threee heads in a series of coin flips.This \n",
    "                                  process involves plugging the value into the correct probability mass function & calculation the likelihood.\n",
    "        \n",
    "Probability Density Function (PDF) : In probability theory, a probability density function is used to define the random variable's probability\n",
    "                                     coming within a distinct range of values, as opposed to taking on any one value.  "
   ]
  },
  {
   "cell_type": "code",
   "execution_count": null,
   "id": "e79ea7b1-ccd4-49ac-8c28-87c9d57d9ef7",
   "metadata": {},
   "outputs": [],
   "source": [
    "## Que.2 Ans\n",
    "Cumulative Density Function (CDF) : The cumulative distribution function is used to describe the probability distribution of random variables.\n",
    "                                    The Cumulative Distribution Function of a real-valued random variable X,evaluated at x, is the probability \n",
    "                                    function that X will take a value less than or equal to x.It is used to describe the probability distribution of \n",
    "                                    random variables in a table. \n",
    "        "
   ]
  },
  {
   "cell_type": "code",
   "execution_count": null,
   "id": "d9630c87-3045-4c88-8a64-10bdc5c62f5d",
   "metadata": {},
   "outputs": [],
   "source": [
    "## Que.3 Ans\n",
    "Height,birth weight,reading ability,job satisfaction,or SAT scores are just a few examples of such variables, Becouse normally distributed variables\n",
    "are so common,many statistical tests are designed for normally distributed populations.\n",
    "\n",
    "The two main parameters of a (normal) distribution are the mean & standard deviation. The parameters determine the shape & probability of the\n",
    "distribution. The shape of the distribution changes as the parameter values change."
   ]
  },
  {
   "cell_type": "code",
   "execution_count": null,
   "id": "a4d43531-44a4-4b2f-813e-5531fad323bf",
   "metadata": {},
   "outputs": [],
   "source": [
    "## Que.4 Ans\n",
    "Importance of Normal Distribution :The normal distribution is important becouse it can be used to approximate other types of probability distribution.\n",
    "                                   such as binomial,hypergeometric ,inverse(or negative) hypergeometric, negative binomial & poisson distribution.\n",
    "    "
   ]
  },
  {
   "cell_type": "code",
   "execution_count": null,
   "id": "daf87147-7f14-4f4d-b28a-9f14ee731b4b",
   "metadata": {},
   "outputs": [],
   "source": [
    "## Que.5 Ans\n",
    "Bernaulli Distribution : Bernaulli is the discrete probability distribution of a random variable which takes the value 1 with  probability & the \n",
    "                         value 0 with probability.\n",
    "ex. Tossing a coin.\n",
    "\n",
    "Difference between Bernaulli Distribution & Binomial Distribution :The Bernaulli Distribution represent the success or failure of a single Bernaulli \n",
    "                                                                   trial. The Binomial Distribution represents the number  of successs & failures in n\n",
    "                                                                   independent Bernaulli trials for some given values of n.\n",
    "                                                                        "
   ]
  },
  {
   "cell_type": "code",
   "execution_count": null,
   "id": "83a322bf-99f5-47ba-8b4c-d9b8850b26ee",
   "metadata": {},
   "outputs": [],
   "source": [
    "## Que.6 Ans\n"
   ]
  },
  {
   "cell_type": "code",
   "execution_count": null,
   "id": "88928cfd-314d-40a4-a44c-8b6ecff6dc18",
   "metadata": {},
   "outputs": [],
   "source": [
    "## Que.7 Ans\n",
    "Uniform Distribution : In a statistic, uniform distribution refers to a type of probability distribution in which all outcomes are equally likely.\n",
    "                       A deck of cards has within it uniform distribution because the likelihood of a drawing a heart,a club,a diamond,or a spade is \n",
    "                       equally likely."
   ]
  },
  {
   "cell_type": "code",
   "execution_count": null,
   "id": "5057c303-0578-48a5-9048-4b97b561de4d",
   "metadata": {},
   "outputs": [],
   "source": [
    "## Que.8 Ans\n",
    "z score : A Z-score is a statistical measurement of a scores relationship to the mean in a group of scores.\n",
    "Importance of the z-scores : A z-score is important because it tells where your data lies in the data distribution.\n",
    "ex : if a z-score is 1.5,it is 1.5 standard deviation away from the mean."
   ]
  },
  {
   "cell_type": "code",
   "execution_count": null,
   "id": "2b02dcba-7c4f-4747-a09c-c47c65591e8b",
   "metadata": {},
   "outputs": [],
   "source": [
    "## Que.9 Ans\n",
    "Central Limit Theorem : The central limit theorem says that the sampling distribution of the mean will always be normally distributed, as long as the\n",
    "                        sample size is large enough.\n",
    "    \n",
    "Significance of Central Limit Theorem : The central limit theorem is useful when analyzing large data sets because it allows one to assume that the\n",
    "                                        sampling distribution of the mean  will be normally distributed in most cases. This allows for easier  \n",
    "                                        statical analysis & inference."
   ]
  },
  {
   "cell_type": "code",
   "execution_count": null,
   "id": "27d007de-78e0-4586-974d-4ac0a7b9fbc5",
   "metadata": {},
   "outputs": [],
   "source": [
    "## Que.10 Ans\n",
    "Assumptions of the central limit theorem : 1. The data must adhere to the randomization rule. \n",
    "                                           2. It needs to be sampled at random.\n",
    "                                           3. The samples should be unrelated to one another.\n",
    "                                           4. One"
   ]
  }
 ],
 "metadata": {
  "kernelspec": {
   "display_name": "Python 3 (ipykernel)",
   "language": "python",
   "name": "python3"
  },
  "language_info": {
   "codemirror_mode": {
    "name": "ipython",
    "version": 3
   },
   "file_extension": ".py",
   "mimetype": "text/x-python",
   "name": "python",
   "nbconvert_exporter": "python",
   "pygments_lexer": "ipython3",
   "version": "3.10.8"
  }
 },
 "nbformat": 4,
 "nbformat_minor": 5
}
