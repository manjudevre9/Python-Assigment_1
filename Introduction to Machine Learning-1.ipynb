{
 "cells": [
  {
   "cell_type": "code",
   "execution_count": null,
   "id": "232972dc-6a1a-4191-bb80-82c8d439564f",
   "metadata": {},
   "outputs": [],
   "source": [
    "Que.1. Explain the following with an example.\n",
    "Ans.Artificial Intelligence(AI):\n",
    "    AI refers to the broader field of research & development aimed at creating machines that can perform tasks \n",
    "    that typically require human intelligence,such as:\n",
    "                                                       - Reasoning\n",
    "                                                       - Problem-solving\n",
    "                                                       - Learning\n",
    "                                                       - Perception\n",
    "    Exapmle:Virtual assistants like Siri,Alexa, or Google Assistant use AI to understand voice commands & respond\n",
    "            accordingly.\n",
    "        \n",
    "    Machine Learning(ML):\n",
    "    ML is a subset of AI that involves training algorithms to learn from data & improve their performance on a \n",
    "    specific task without being explicitly programmed.Its like learing from experience!\n",
    "    \n",
    "    Example:Image recognition apps like Facebook or Google Photos use ML to identify people,places,& objects in\n",
    "            imsges.\n",
    "        \n",
    "    Deep Learning(DL):\n",
    "    DL is a subset of ML that uses neural networks with multiple layers to learn complex patterns in data. Its \n",
    "    like a hierachy of learning!\n",
    "    \n",
    "    Example: Self-driving cars use DL to recognize objects,detect lanes,& make decisions in real-time."
   ]
  },
  {
   "cell_type": "code",
   "execution_count": null,
   "id": "50efc465-54db-4482-bbd9-fafe479871db",
   "metadata": {},
   "outputs": [],
   "source": [
    "Que.2. What is supervised learing?List some example.\n",
    "Ans.Supervised learing is a type of machine learing where the algorithm is trained on labeled data,meaning the data\n",
    "    is already annotated with the correct output.The goal is to learn a mapping between input data & output labels,\n",
    "    so the algorithm can make accurate predictions on new,unseen data.\n",
    "Some Example:1.Image Classification.\n",
    "             2.Sentiment Analysis.\n",
    "             3.Speech Recognition.\n",
    "             4.Spam Detection.\n",
    "             5.Medical Diagnosis.\n",
    "             6.Stock Price Prediction.\n",
    "             "
   ]
  },
  {
   "cell_type": "code",
   "execution_count": null,
   "id": "d8c5baab-d351-4a93-80be-cea3c61541c3",
   "metadata": {},
   "outputs": [],
   "source": [
    "Que.3. What is unsupervised learning? List some example.\n",
    "Ans.Unsupervised learing is a type of machine learning where the algorithm is trained on unlebed data, meaning the\n",
    "    data doesnt have pre-assigned outputs or lables.The goal is to discover patterns,relationships,or structure in\n",
    "    the data without prior knowledge of the expected output.\n",
    "Some Example:1.Clustering.\n",
    "             2.Dimensionality Reduction.\n",
    "             3.Anomaly Detection.\n",
    "             4.Association Rule Mining.\n",
    "             5.Self-Organizing Maps.\n",
    "             6.Generative Models.    "
   ]
  },
  {
   "cell_type": "code",
   "execution_count": null,
   "id": "0d619838-615f-478b-a8a1-b7a9d2061fa7",
   "metadata": {},
   "outputs": [],
   "source": [
    "Que.4.What is the difference between AI,ML,DL & DS?\n",
    "Ans.AI involves a wide range of techniques,including rule-based systems,optimization methods,& machine learning.\n",
    "    ML is primarily concerned with developing predictive models & improving their performance on a specific task.\n",
    "    DL is particularly effective for tasks like image recognition,natural language processing,& speech recognition.\n",
    "    DS involves a broad range of techniques,including data wrangling,visualization,machine learning,& storytelling."
   ]
  },
  {
   "cell_type": "code",
   "execution_count": null,
   "id": "0cbb82f9-21c2-4cef-b2ee-86d1bbbfb10a",
   "metadata": {},
   "outputs": [],
   "source": [
    "Que.5.What are the difference between supervised,unsupervised,& semi-supervised learning?\n",
    "Ans.- Supervised learing requires labeles data,while unsupervised learning uses unlabeled data.\n",
    "    - Semi-supervised learing combines both labeled & unlabeled data.\n",
    "    - Supervised learing focuses on learning aspecific mapping,while unsupervised learing focuses on discovering \n",
    "      patterns or structure.\n",
    "    - Semi-supervised learing aims to leverage the strengths of both supervised & unsupervised learning.    \n",
    "    "
   ]
  },
  {
   "cell_type": "code",
   "execution_count": null,
   "id": "4c303351-134a-4386-a1b8-fa4b5ec41c9f",
   "metadata": {},
   "outputs": [],
   "source": [
    "Que.6.What is train,test & validation split?\n",
    "Ans.Training Set(Train):\n",
    "    -Used to train the model,i.e.,to learn the relationship between features & target variables.\n",
    "    -Typically 60-80% of the total data.\n",
    "    -Importance:This set is used to teach the model,so its essential to have a large enough sample to capture the \n",
    "     underlying patterns.\n",
    "        \n",
    "    Testing Set(Test):\n",
    "    -Used to evaluate the models performance after training.\n",
    "    -Typically 15-20% of the total data.\n",
    "    -Importance:This set is used to assess how well the model generalizes to new,unseen data.It helps prevent \n",
    "     overfitting.\n",
    "        \n",
    "    Validation Set(Validation):\n",
    "    -Used to fine-tune hyperparameters,model selection,& prevent overfiting.\n",
    "    -Typically 5-15% of the total data.\n",
    "    -Importance: This set helps ensure the model is not overfitting to the training data & provides an unbiased \n",
    "     evaluation of its performance."
   ]
  },
  {
   "cell_type": "code",
   "execution_count": null,
   "id": "56c84554-388a-4c22-9fb5-929c8354092a",
   "metadata": {},
   "outputs": [],
   "source": [
    "Que.7.How can unsupervised learning be used in anomaly detection?\n",
    "Ans.Unsupervised learning is particularly well-suited for anomaly detection,as it can identify unusual patterns or\n",
    "    outliers in data without prior knowledge of what constitutes an anomaly.\n",
    "    1.Clustering.\n",
    "    2.Density-based methods.\n",
    "    3.Dimensionality.\n",
    "    4.Autoencoders.\n",
    "    5.Isolation Forest.\n",
    "    6.Local Outlier Factor(LOF).\n",
    "    7.One-class SVM."
   ]
  },
  {
   "cell_type": "code",
   "execution_count": null,
   "id": "1349c7ea-1dec-40f0-bfdd-2dc8cbbc3549",
   "metadata": {},
   "outputs": [],
   "source": [
    "Que.8.List down some commonly used supervised learning algorithms & unsupervised learning algorithms?\n",
    "Ans.Supervised Learning Algorithms:\n",
    "    1.Linear Regression.\n",
    "    2.Logistic Regression.\n",
    "    3.Decision Trees.\n",
    "    4.Random Forest.\n",
    "    5.Support Vector Machines(SVM).\n",
    "    6.K-Nearest Neighbors(KNN).\n",
    "    7.Gradient Boosting.\n",
    "    8.Neural Networks.\n",
    "    \n",
    "    Unsupervised Learning Algorithm:\n",
    "    1.K-Means Clustering.\n",
    "    2.Hierarchical Clustering.\n",
    "    3.Principal Component Analysis(PCA).\n",
    "    4.t-Distributed Stochastic Neighbor Embedding(t-SNE).\n",
    "    5.K-Medoids.\n",
    "    6.DBSCAN.\n",
    "    7.Gaussian Mixture Models.\n",
    "    8.Autoenc"
   ]
  }
 ],
 "metadata": {
  "kernelspec": {
   "display_name": "Python 3 (ipykernel)",
   "language": "python",
   "name": "python3"
  },
  "language_info": {
   "codemirror_mode": {
    "name": "ipython",
    "version": 3
   },
   "file_extension": ".py",
   "mimetype": "text/x-python",
   "name": "python",
   "nbconvert_exporter": "python",
   "pygments_lexer": "ipython3",
   "version": "3.10.8"
  }
 },
 "nbformat": 4,
 "nbformat_minor": 5
}
