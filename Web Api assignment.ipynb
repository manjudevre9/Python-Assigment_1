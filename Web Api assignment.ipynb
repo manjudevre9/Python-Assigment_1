{
 "cells": [
  {
   "cell_type": "code",
   "execution_count": null,
   "id": "ac34ab5a-13a0-49ca-a6a8-26a3a5c50ab6",
   "metadata": {},
   "outputs": [],
   "source": [
    "Que. 1.What is an Api? Give an example, where an Api is used in real life.\n",
    "Ans.Api:Api ismechanisms that enable two software components to communicate with each other using a set of \n",
    "        definitions & protocols.\n",
    "    For example: The weather bureau's software system contains daily weather data.The weather app on your phone \n",
    "                 \"talks\" to this system via Api & shows you daily weather updates on your phone.\n",
    "    Use:1.Api are used to deliver material streaming services such as Spotify & Netflix.\n",
    "        2.Api are used by automakers such as Tesla to provide software upgrades."
   ]
  },
  {
   "cell_type": "code",
   "execution_count": null,
   "id": "9462314e-a6ac-494a-916b-d014b6bed1b4",
   "metadata": {},
   "outputs": [],
   "source": [
    "Que.2. Give advantages & disadvantages of using API.\n",
    "Ans.Advantages:1.Increased interoperability.\n",
    "               2.Improved Efficiency.\n",
    "               3.Better user Experience.\n",
    "               4.Increased Flexibility.\n",
    "               5.New Revenue Strems.\n",
    "    Disadvantages:1.Security Concerns.\n",
    "                  2.Complexity.\n",
    "                  3.Compatibility Issues.\n",
    "                  4.Dependancy on Third-Party Developers.\n",
    "                  5.Gobernsnce & Management."
   ]
  },
  {
   "cell_type": "code",
   "execution_count": null,
   "id": "a08746eb-1b01-4604-9cac-b8b6f2a327ab",
   "metadata": {},
   "outputs": [],
   "source": [
    "Que.3. What is an Web Api? Differentiate between Api & Web Api.\n",
    "Ans.Web Api: Is an application programing interface for either a web server or a web browser.As a web devlopment\n",
    "             concept, it can be related to a web applictions client side.\n",
    "    Differentiate between Api & Web Api:\n",
    "        All Web Api are Api,but not all Api are Web Api.Api can be used for various purposes,while Web Api are \n",
    "        specifically designed for web-based interactions."
   ]
  },
  {
   "cell_type": "code",
   "execution_count": null,
   "id": "4ab16f8f-d062-4643-9232-10f5155d7b02",
   "metadata": {},
   "outputs": [],
   "source": [
    "Que.4. Explain REST & SOAP Architecture.\n",
    "Ans.REST:Is an Api that conforms to the design principles of the representational state transfer architectural \n",
    "         style.REST Api are commmonly used in web & mobile applications to retrieve or modify resources & data on\n",
    "         remote system.\n",
    "    SOAP:SOAP allows applications to interact & create,update,delete & recover recordes such as passwords,\n",
    "         accounts & custom objects.Because of its extensible,neutral & independent nature,SOAP Api allows \n",
    "         developers to maintain acounts & run searches using all programing languages. "
   ]
  },
  {
   "cell_type": "code",
   "execution_count": null,
   "id": "897c9d99-31d1-4421-b558-df70fbec1ffe",
   "metadata": {},
   "outputs": [],
   "source": [
    "Que.5. Differentiate between REST & SOAP.\n",
    "Ans.REST & SOAP are two different approches to Api desig. The REST is More flefible & alloes apllications to \n",
    "    exchange data in multiple formats.The SOAP approch is highly structured & uses XML data format."
   ]
  }
 ],
 "metadata": {
  "kernelspec": {
   "display_name": "Python 3 (ipykernel)",
   "language": "python",
   "name": "python3"
  },
  "language_info": {
   "codemirror_mode": {
    "name": "ipython",
    "version": 3
   },
   "file_extension": ".py",
   "mimetype": "text/x-python",
   "name": "python",
   "nbconvert_exporter": "python",
   "pygments_lexer": "ipython3",
   "version": "3.10.8"
  }
 },
 "nbformat": 4,
 "nbformat_minor": 5
}
